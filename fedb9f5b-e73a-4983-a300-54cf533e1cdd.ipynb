{
 "cells": [
  {
   "attachments": {},
   "cell_type": "markdown",
   "metadata": {},
   "source": []
  },
  {
   "cell_type": "code",
   "execution_count": null,
   "metadata": {},
   "outputs": [],
   "source": []
  },
  {
   "cell_type": "markdown",
   "metadata": {
    "toc": true
   },
   "source": [
    "<h1>Содержание<span class=\"tocSkip\"></span></h1>\n",
    "<div class=\"toc\"><ul class=\"toc-item\"><li><span><a href=\"#Подготовка-данных\" data-toc-modified-id=\"Подготовка-данных-1\"><span class=\"toc-item-num\">1&nbsp;&nbsp;</span>Подготовка данных</a></span></li><li><span><a href=\"#Исследование-задачи\" data-toc-modified-id=\"Исследование-задачи-2\"><span class=\"toc-item-num\">2&nbsp;&nbsp;</span>Исследование задачи</a></span></li><li><span><a href=\"#Борьба-с-дисбалансом\" data-toc-modified-id=\"Борьба-с-дисбалансом-3\"><span class=\"toc-item-num\">3&nbsp;&nbsp;</span>Борьба с дисбалансом</a></span></li><li><span><a href=\"#Тестирование-модели\" data-toc-modified-id=\"Тестирование-модели-4\"><span class=\"toc-item-num\">4&nbsp;&nbsp;</span>Тестирование модели</a></span></li><li><span><a href=\"#Чек-лист-готовности-проекта\" data-toc-modified-id=\"Чек-лист-готовности-проекта-5\"><span class=\"toc-item-num\">5&nbsp;&nbsp;</span>Чек-лист готовности проекта</a></span></li></ul></div>"
   ]
  },
  {
   "cell_type": "markdown",
   "metadata": {},
   "source": []
  },
  {
   "cell_type": "markdown",
   "metadata": {},
   "source": []
  },
  {
   "cell_type": "markdown",
   "metadata": {},
   "source": [
    "# Отток клиентов"
   ]
  },
  {
   "cell_type": "markdown",
   "metadata": {},
   "source": [
    "Из «Бета-Банка» стали уходить клиенты. Каждый месяц. Немного, но заметно. Банковские маркетологи посчитали: сохранять текущих клиентов дешевле, чем привлекать новых.\n",
    "\n",
    "Нужно спрогнозировать, уйдёт клиент из банка в ближайшее время или нет. Вам предоставлены исторические данные о поведении клиентов и расторжении договоров с банком. \n",
    "\n",
    "Постройте модель с предельно большим значением *F1*-меры. Чтобы сдать проект успешно, нужно довести метрику до 0.59. Проверьте *F1*-меру на тестовой выборке самостоятельно.\n",
    "\n",
    "Дополнительно измеряйте *AUC-ROC*, сравнивайте её значение с *F1*-мерой.\n",
    "\n",
    "Источник данных: [https://www.kaggle.com/barelydedicated/bank-customer-churn-modeling](https://www.kaggle.com/barelydedicated/bank-customer-churn-modeling)"
   ]
  },
  {
   "attachments": {},
   "cell_type": "markdown",
   "metadata": {},
   "source": []
  },
  {
   "cell_type": "markdown",
   "metadata": {},
   "source": [
    "## Подготовка данных"
   ]
  },
  {
   "cell_type": "code",
   "execution_count": 46,
   "metadata": {},
   "outputs": [],
   "source": [
    "#блок загрузки библиотек\n",
    "import pandas as pd\n",
    "import matplotlib.pyplot as plt\n",
    "import seaborn as sns                                # чтобы посмотреть корреляцию данных\n",
    "from sklearn.model_selection import train_test_split # функция разделения на обучающую и тестовую выборку\n",
    "from sklearn.preprocessing import StandardScaler     # функция для стандартизации данных\n",
    "from sklearn.tree import DecisionTreeClassifier      # классификатор дерева решений\n",
    "from sklearn.metrics import f1_score                 # нахождение f1 меры\n",
    "from sklearn.linear_model import LogisticRegression  # логистическая регрессия\n",
    "from sklearn.ensemble import RandomForestClassifier  # классификатор случайного леса\n",
    "from sklearn.utils import shuffle                    # используем в upsampling для перемешивания данных\n",
    "from sklearn.metrics import roc_curve                # для построения графика ROC-кривой\n",
    "from sklearn.metrics import roc_auc_score            #для вычисления ROC-кривой\n",
    "pd.options.mode.chained_assignment = None            # чтобы не выподали предупреждения при стандартизации данных"
   ]
  },
  {
   "cell_type": "code",
   "execution_count": 47,
   "metadata": {},
   "outputs": [],
   "source": [
    "#блок загрузки датасета\n",
    "df = pd.read_csv('https://code.s3.yandex.net/datasets/Churn.csv')\n",
    "#изначально обрежем значения до 3 знака после запятой при воспроизведении\n",
    "pd.set_option('display.float_format', lambda x: '%.3f' % x)"
   ]
  },
  {
   "cell_type": "code",
   "execution_count": 48,
   "metadata": {},
   "outputs": [
    {
     "data": {
      "text/html": [
       "<div>\n",
       "<style scoped>\n",
       "    .dataframe tbody tr th:only-of-type {\n",
       "        vertical-align: middle;\n",
       "    }\n",
       "\n",
       "    .dataframe tbody tr th {\n",
       "        vertical-align: top;\n",
       "    }\n",
       "\n",
       "    .dataframe thead th {\n",
       "        text-align: right;\n",
       "    }\n",
       "</style>\n",
       "<table border=\"1\" class=\"dataframe\">\n",
       "  <thead>\n",
       "    <tr style=\"text-align: right;\">\n",
       "      <th></th>\n",
       "      <th>RowNumber</th>\n",
       "      <th>CustomerId</th>\n",
       "      <th>Surname</th>\n",
       "      <th>CreditScore</th>\n",
       "      <th>Geography</th>\n",
       "      <th>Gender</th>\n",
       "      <th>Age</th>\n",
       "      <th>Tenure</th>\n",
       "      <th>Balance</th>\n",
       "      <th>NumOfProducts</th>\n",
       "      <th>HasCrCard</th>\n",
       "      <th>IsActiveMember</th>\n",
       "      <th>EstimatedSalary</th>\n",
       "      <th>Exited</th>\n",
       "    </tr>\n",
       "  </thead>\n",
       "  <tbody>\n",
       "    <tr>\n",
       "      <th>0</th>\n",
       "      <td>1</td>\n",
       "      <td>15634602</td>\n",
       "      <td>Hargrave</td>\n",
       "      <td>619</td>\n",
       "      <td>France</td>\n",
       "      <td>Female</td>\n",
       "      <td>42</td>\n",
       "      <td>2.000</td>\n",
       "      <td>0.000</td>\n",
       "      <td>1</td>\n",
       "      <td>1</td>\n",
       "      <td>1</td>\n",
       "      <td>101348.880</td>\n",
       "      <td>1</td>\n",
       "    </tr>\n",
       "    <tr>\n",
       "      <th>1</th>\n",
       "      <td>2</td>\n",
       "      <td>15647311</td>\n",
       "      <td>Hill</td>\n",
       "      <td>608</td>\n",
       "      <td>Spain</td>\n",
       "      <td>Female</td>\n",
       "      <td>41</td>\n",
       "      <td>1.000</td>\n",
       "      <td>83807.860</td>\n",
       "      <td>1</td>\n",
       "      <td>0</td>\n",
       "      <td>1</td>\n",
       "      <td>112542.580</td>\n",
       "      <td>0</td>\n",
       "    </tr>\n",
       "    <tr>\n",
       "      <th>2</th>\n",
       "      <td>3</td>\n",
       "      <td>15619304</td>\n",
       "      <td>Onio</td>\n",
       "      <td>502</td>\n",
       "      <td>France</td>\n",
       "      <td>Female</td>\n",
       "      <td>42</td>\n",
       "      <td>8.000</td>\n",
       "      <td>159660.800</td>\n",
       "      <td>3</td>\n",
       "      <td>1</td>\n",
       "      <td>0</td>\n",
       "      <td>113931.570</td>\n",
       "      <td>1</td>\n",
       "    </tr>\n",
       "    <tr>\n",
       "      <th>3</th>\n",
       "      <td>4</td>\n",
       "      <td>15701354</td>\n",
       "      <td>Boni</td>\n",
       "      <td>699</td>\n",
       "      <td>France</td>\n",
       "      <td>Female</td>\n",
       "      <td>39</td>\n",
       "      <td>1.000</td>\n",
       "      <td>0.000</td>\n",
       "      <td>2</td>\n",
       "      <td>0</td>\n",
       "      <td>0</td>\n",
       "      <td>93826.630</td>\n",
       "      <td>0</td>\n",
       "    </tr>\n",
       "    <tr>\n",
       "      <th>4</th>\n",
       "      <td>5</td>\n",
       "      <td>15737888</td>\n",
       "      <td>Mitchell</td>\n",
       "      <td>850</td>\n",
       "      <td>Spain</td>\n",
       "      <td>Female</td>\n",
       "      <td>43</td>\n",
       "      <td>2.000</td>\n",
       "      <td>125510.820</td>\n",
       "      <td>1</td>\n",
       "      <td>1</td>\n",
       "      <td>1</td>\n",
       "      <td>79084.100</td>\n",
       "      <td>0</td>\n",
       "    </tr>\n",
       "    <tr>\n",
       "      <th>5</th>\n",
       "      <td>6</td>\n",
       "      <td>15574012</td>\n",
       "      <td>Chu</td>\n",
       "      <td>645</td>\n",
       "      <td>Spain</td>\n",
       "      <td>Male</td>\n",
       "      <td>44</td>\n",
       "      <td>8.000</td>\n",
       "      <td>113755.780</td>\n",
       "      <td>2</td>\n",
       "      <td>1</td>\n",
       "      <td>0</td>\n",
       "      <td>149756.710</td>\n",
       "      <td>1</td>\n",
       "    </tr>\n",
       "    <tr>\n",
       "      <th>6</th>\n",
       "      <td>7</td>\n",
       "      <td>15592531</td>\n",
       "      <td>Bartlett</td>\n",
       "      <td>822</td>\n",
       "      <td>France</td>\n",
       "      <td>Male</td>\n",
       "      <td>50</td>\n",
       "      <td>7.000</td>\n",
       "      <td>0.000</td>\n",
       "      <td>2</td>\n",
       "      <td>1</td>\n",
       "      <td>1</td>\n",
       "      <td>10062.800</td>\n",
       "      <td>0</td>\n",
       "    </tr>\n",
       "    <tr>\n",
       "      <th>7</th>\n",
       "      <td>8</td>\n",
       "      <td>15656148</td>\n",
       "      <td>Obinna</td>\n",
       "      <td>376</td>\n",
       "      <td>Germany</td>\n",
       "      <td>Female</td>\n",
       "      <td>29</td>\n",
       "      <td>4.000</td>\n",
       "      <td>115046.740</td>\n",
       "      <td>4</td>\n",
       "      <td>1</td>\n",
       "      <td>0</td>\n",
       "      <td>119346.880</td>\n",
       "      <td>1</td>\n",
       "    </tr>\n",
       "    <tr>\n",
       "      <th>8</th>\n",
       "      <td>9</td>\n",
       "      <td>15792365</td>\n",
       "      <td>He</td>\n",
       "      <td>501</td>\n",
       "      <td>France</td>\n",
       "      <td>Male</td>\n",
       "      <td>44</td>\n",
       "      <td>4.000</td>\n",
       "      <td>142051.070</td>\n",
       "      <td>2</td>\n",
       "      <td>0</td>\n",
       "      <td>1</td>\n",
       "      <td>74940.500</td>\n",
       "      <td>0</td>\n",
       "    </tr>\n",
       "    <tr>\n",
       "      <th>9</th>\n",
       "      <td>10</td>\n",
       "      <td>15592389</td>\n",
       "      <td>H?</td>\n",
       "      <td>684</td>\n",
       "      <td>France</td>\n",
       "      <td>Male</td>\n",
       "      <td>27</td>\n",
       "      <td>2.000</td>\n",
       "      <td>134603.880</td>\n",
       "      <td>1</td>\n",
       "      <td>1</td>\n",
       "      <td>1</td>\n",
       "      <td>71725.730</td>\n",
       "      <td>0</td>\n",
       "    </tr>\n",
       "  </tbody>\n",
       "</table>\n",
       "</div>"
      ],
      "text/plain": [
       "   RowNumber  CustomerId   Surname  CreditScore Geography  Gender  Age  \\\n",
       "0          1    15634602  Hargrave          619    France  Female   42   \n",
       "1          2    15647311      Hill          608     Spain  Female   41   \n",
       "2          3    15619304      Onio          502    France  Female   42   \n",
       "3          4    15701354      Boni          699    France  Female   39   \n",
       "4          5    15737888  Mitchell          850     Spain  Female   43   \n",
       "5          6    15574012       Chu          645     Spain    Male   44   \n",
       "6          7    15592531  Bartlett          822    France    Male   50   \n",
       "7          8    15656148    Obinna          376   Germany  Female   29   \n",
       "8          9    15792365        He          501    France    Male   44   \n",
       "9         10    15592389        H?          684    France    Male   27   \n",
       "\n",
       "   Tenure    Balance  NumOfProducts  HasCrCard  IsActiveMember  \\\n",
       "0   2.000      0.000              1          1               1   \n",
       "1   1.000  83807.860              1          0               1   \n",
       "2   8.000 159660.800              3          1               0   \n",
       "3   1.000      0.000              2          0               0   \n",
       "4   2.000 125510.820              1          1               1   \n",
       "5   8.000 113755.780              2          1               0   \n",
       "6   7.000      0.000              2          1               1   \n",
       "7   4.000 115046.740              4          1               0   \n",
       "8   4.000 142051.070              2          0               1   \n",
       "9   2.000 134603.880              1          1               1   \n",
       "\n",
       "   EstimatedSalary  Exited  \n",
       "0       101348.880       1  \n",
       "1       112542.580       0  \n",
       "2       113931.570       1  \n",
       "3        93826.630       0  \n",
       "4        79084.100       0  \n",
       "5       149756.710       1  \n",
       "6        10062.800       0  \n",
       "7       119346.880       1  \n",
       "8        74940.500       0  \n",
       "9        71725.730       0  "
      ]
     },
     "execution_count": 48,
     "metadata": {},
     "output_type": "execute_result"
    }
   ],
   "source": [
    "#посмотрим на сами данные\n",
    "df.head(10)"
   ]
  },
  {
   "cell_type": "markdown",
   "metadata": {},
   "source": [
    "**1.1 Проведем подготовку данных**"
   ]
  },
  {
   "cell_type": "code",
   "execution_count": 49,
   "metadata": {},
   "outputs": [
    {
     "name": "stdout",
     "output_type": "stream",
     "text": [
      "<class 'pandas.core.frame.DataFrame'>\n",
      "RangeIndex: 10000 entries, 0 to 9999\n",
      "Data columns (total 14 columns):\n",
      " #   Column           Non-Null Count  Dtype  \n",
      "---  ------           --------------  -----  \n",
      " 0   RowNumber        10000 non-null  int64  \n",
      " 1   CustomerId       10000 non-null  int64  \n",
      " 2   Surname          10000 non-null  object \n",
      " 3   CreditScore      10000 non-null  int64  \n",
      " 4   Geography        10000 non-null  object \n",
      " 5   Gender           10000 non-null  object \n",
      " 6   Age              10000 non-null  int64  \n",
      " 7   Tenure           9091 non-null   float64\n",
      " 8   Balance          10000 non-null  float64\n",
      " 9   NumOfProducts    10000 non-null  int64  \n",
      " 10  HasCrCard        10000 non-null  int64  \n",
      " 11  IsActiveMember   10000 non-null  int64  \n",
      " 12  EstimatedSalary  10000 non-null  float64\n",
      " 13  Exited           10000 non-null  int64  \n",
      "dtypes: float64(3), int64(8), object(3)\n",
      "memory usage: 1.1+ MB\n"
     ]
    }
   ],
   "source": [
    "#изучим сводную информацию о данных\n",
    "df.info()"
   ]
  },
  {
   "cell_type": "code",
   "execution_count": 50,
   "metadata": {},
   "outputs": [
    {
     "data": {
      "text/html": [
       "<div>\n",
       "<style scoped>\n",
       "    .dataframe tbody tr th:only-of-type {\n",
       "        vertical-align: middle;\n",
       "    }\n",
       "\n",
       "    .dataframe tbody tr th {\n",
       "        vertical-align: top;\n",
       "    }\n",
       "\n",
       "    .dataframe thead th {\n",
       "        text-align: right;\n",
       "    }\n",
       "</style>\n",
       "<table border=\"1\" class=\"dataframe\">\n",
       "  <thead>\n",
       "    <tr style=\"text-align: right;\">\n",
       "      <th></th>\n",
       "      <th>RowNumber</th>\n",
       "      <th>CustomerId</th>\n",
       "      <th>CreditScore</th>\n",
       "      <th>Age</th>\n",
       "      <th>Tenure</th>\n",
       "      <th>Balance</th>\n",
       "      <th>NumOfProducts</th>\n",
       "      <th>HasCrCard</th>\n",
       "      <th>IsActiveMember</th>\n",
       "      <th>EstimatedSalary</th>\n",
       "      <th>Exited</th>\n",
       "    </tr>\n",
       "  </thead>\n",
       "  <tbody>\n",
       "    <tr>\n",
       "      <th>count</th>\n",
       "      <td>10000.000</td>\n",
       "      <td>10000.000</td>\n",
       "      <td>10000.000</td>\n",
       "      <td>10000.000</td>\n",
       "      <td>9091.000</td>\n",
       "      <td>10000.000</td>\n",
       "      <td>10000.000</td>\n",
       "      <td>10000.000</td>\n",
       "      <td>10000.000</td>\n",
       "      <td>10000.000</td>\n",
       "      <td>10000.000</td>\n",
       "    </tr>\n",
       "    <tr>\n",
       "      <th>mean</th>\n",
       "      <td>5000.500</td>\n",
       "      <td>15690940.569</td>\n",
       "      <td>650.529</td>\n",
       "      <td>38.922</td>\n",
       "      <td>4.998</td>\n",
       "      <td>76485.889</td>\n",
       "      <td>1.530</td>\n",
       "      <td>0.706</td>\n",
       "      <td>0.515</td>\n",
       "      <td>100090.240</td>\n",
       "      <td>0.204</td>\n",
       "    </tr>\n",
       "    <tr>\n",
       "      <th>std</th>\n",
       "      <td>2886.896</td>\n",
       "      <td>71936.186</td>\n",
       "      <td>96.653</td>\n",
       "      <td>10.488</td>\n",
       "      <td>2.895</td>\n",
       "      <td>62397.405</td>\n",
       "      <td>0.582</td>\n",
       "      <td>0.456</td>\n",
       "      <td>0.500</td>\n",
       "      <td>57510.493</td>\n",
       "      <td>0.403</td>\n",
       "    </tr>\n",
       "    <tr>\n",
       "      <th>min</th>\n",
       "      <td>1.000</td>\n",
       "      <td>15565701.000</td>\n",
       "      <td>350.000</td>\n",
       "      <td>18.000</td>\n",
       "      <td>0.000</td>\n",
       "      <td>0.000</td>\n",
       "      <td>1.000</td>\n",
       "      <td>0.000</td>\n",
       "      <td>0.000</td>\n",
       "      <td>11.580</td>\n",
       "      <td>0.000</td>\n",
       "    </tr>\n",
       "    <tr>\n",
       "      <th>25%</th>\n",
       "      <td>2500.750</td>\n",
       "      <td>15628528.250</td>\n",
       "      <td>584.000</td>\n",
       "      <td>32.000</td>\n",
       "      <td>2.000</td>\n",
       "      <td>0.000</td>\n",
       "      <td>1.000</td>\n",
       "      <td>0.000</td>\n",
       "      <td>0.000</td>\n",
       "      <td>51002.110</td>\n",
       "      <td>0.000</td>\n",
       "    </tr>\n",
       "    <tr>\n",
       "      <th>50%</th>\n",
       "      <td>5000.500</td>\n",
       "      <td>15690738.000</td>\n",
       "      <td>652.000</td>\n",
       "      <td>37.000</td>\n",
       "      <td>5.000</td>\n",
       "      <td>97198.540</td>\n",
       "      <td>1.000</td>\n",
       "      <td>1.000</td>\n",
       "      <td>1.000</td>\n",
       "      <td>100193.915</td>\n",
       "      <td>0.000</td>\n",
       "    </tr>\n",
       "    <tr>\n",
       "      <th>75%</th>\n",
       "      <td>7500.250</td>\n",
       "      <td>15753233.750</td>\n",
       "      <td>718.000</td>\n",
       "      <td>44.000</td>\n",
       "      <td>7.000</td>\n",
       "      <td>127644.240</td>\n",
       "      <td>2.000</td>\n",
       "      <td>1.000</td>\n",
       "      <td>1.000</td>\n",
       "      <td>149388.247</td>\n",
       "      <td>0.000</td>\n",
       "    </tr>\n",
       "    <tr>\n",
       "      <th>max</th>\n",
       "      <td>10000.000</td>\n",
       "      <td>15815690.000</td>\n",
       "      <td>850.000</td>\n",
       "      <td>92.000</td>\n",
       "      <td>10.000</td>\n",
       "      <td>250898.090</td>\n",
       "      <td>4.000</td>\n",
       "      <td>1.000</td>\n",
       "      <td>1.000</td>\n",
       "      <td>199992.480</td>\n",
       "      <td>1.000</td>\n",
       "    </tr>\n",
       "  </tbody>\n",
       "</table>\n",
       "</div>"
      ],
      "text/plain": [
       "       RowNumber   CustomerId  CreditScore       Age   Tenure    Balance  \\\n",
       "count  10000.000    10000.000    10000.000 10000.000 9091.000  10000.000   \n",
       "mean    5000.500 15690940.569      650.529    38.922    4.998  76485.889   \n",
       "std     2886.896    71936.186       96.653    10.488    2.895  62397.405   \n",
       "min        1.000 15565701.000      350.000    18.000    0.000      0.000   \n",
       "25%     2500.750 15628528.250      584.000    32.000    2.000      0.000   \n",
       "50%     5000.500 15690738.000      652.000    37.000    5.000  97198.540   \n",
       "75%     7500.250 15753233.750      718.000    44.000    7.000 127644.240   \n",
       "max    10000.000 15815690.000      850.000    92.000   10.000 250898.090   \n",
       "\n",
       "       NumOfProducts  HasCrCard  IsActiveMember  EstimatedSalary    Exited  \n",
       "count      10000.000  10000.000       10000.000        10000.000 10000.000  \n",
       "mean           1.530      0.706           0.515       100090.240     0.204  \n",
       "std            0.582      0.456           0.500        57510.493     0.403  \n",
       "min            1.000      0.000           0.000           11.580     0.000  \n",
       "25%            1.000      0.000           0.000        51002.110     0.000  \n",
       "50%            1.000      1.000           1.000       100193.915     0.000  \n",
       "75%            2.000      1.000           1.000       149388.247     0.000  \n",
       "max            4.000      1.000           1.000       199992.480     1.000  "
      ]
     },
     "execution_count": 50,
     "metadata": {},
     "output_type": "execute_result"
    }
   ],
   "source": [
    "#Изучим общие статистические данные данных\n",
    "df.describe()"
   ]
  },
  {
   "cell_type": "code",
   "execution_count": 51,
   "metadata": {},
   "outputs": [
    {
     "data": {
      "image/png": "[encoded data removed]",
      "text/plain": [
       "<Figure size 1440x864 with 2 Axes>"
      ]
     },
     "metadata": {
      "needs_background": "light"
     },
     "output_type": "display_data"
    }
   ],
   "source": [
    "# Установим взаимосвязь данных \n",
    "plt.figure(figsize=(20, 12))\n",
    "plt.title('Корреляция признаков')\n",
    "sns.heatmap(df.corr(method='spearman'), annot = True, cmap=\"coolwarm\")\n",
    "plt.show()"
   ]
  },
  {
   "cell_type": "code",
   "execution_count": 52,
   "metadata": {},
   "outputs": [
    {
     "data": {
      "text/plain": [
       "RowNumber            0\n",
       "CustomerId           0\n",
       "Surname              0\n",
       "CreditScore          0\n",
       "Geography            0\n",
       "Gender               0\n",
       "Age                  0\n",
       "Tenure             909\n",
       "Balance              0\n",
       "NumOfProducts        0\n",
       "HasCrCard            0\n",
       "IsActiveMember       0\n",
       "EstimatedSalary      0\n",
       "Exited               0\n",
       "dtype: int64"
      ]
     },
     "execution_count": 52,
     "metadata": {},
     "output_type": "execute_result"
    }
   ],
   "source": [
    "#проверим датафрейм на пропуски\n",
    "df.isna().sum()"
   ]
  },
  {
   "cell_type": "code",
   "execution_count": 53,
   "metadata": {},
   "outputs": [
    {
     "data": {
      "text/plain": [
       "0"
      ]
     },
     "execution_count": 53,
     "metadata": {},
     "output_type": "execute_result"
    }
   ],
   "source": [
    "#проверим датафрейм на дубликаты\n",
    "df.duplicated().sum()"
   ]
  },
  {
   "cell_type": "markdown",
   "metadata": {},
   "source": [
    "Не приятная ситуация с \"Tenure — сколько лет человек является клиентом банка\" - есть 909 пропущенных значения. "
   ]
  },
  {
   "cell_type": "markdown",
   "metadata": {},
   "source": [
    "Изучим их:"
   ]
  },
  {
   "cell_type": "code",
   "execution_count": 54,
   "metadata": {},
   "outputs": [
    {
     "data": {
      "text/plain": [
       "1.000     952\n",
       "2.000     950\n",
       "8.000     933\n",
       "3.000     928\n",
       "5.000     927\n",
       "7.000     925\n",
       "4.000     885\n",
       "9.000     882\n",
       "6.000     881\n",
       "10.000    446\n",
       "0.000     382\n",
       "Name: Tenure, dtype: int64"
      ]
     },
     "execution_count": 54,
     "metadata": {},
     "output_type": "execute_result"
    }
   ],
   "source": [
    "#какие есть значения в столбце и сколько их\n",
    "df['Tenure'].value_counts()"
   ]
  },
  {
   "cell_type": "code",
   "execution_count": 55,
   "metadata": {},
   "outputs": [
    {
     "data": {
      "text/html": [
       "<div>\n",
       "<style scoped>\n",
       "    .dataframe tbody tr th:only-of-type {\n",
       "        vertical-align: middle;\n",
       "    }\n",
       "\n",
       "    .dataframe tbody tr th {\n",
       "        vertical-align: top;\n",
       "    }\n",
       "\n",
       "    .dataframe thead th {\n",
       "        text-align: right;\n",
       "    }\n",
       "</style>\n",
       "<table border=\"1\" class=\"dataframe\">\n",
       "  <thead>\n",
       "    <tr style=\"text-align: right;\">\n",
       "      <th></th>\n",
       "      <th>RowNumber</th>\n",
       "      <th>CustomerId</th>\n",
       "      <th>Surname</th>\n",
       "      <th>CreditScore</th>\n",
       "      <th>Geography</th>\n",
       "      <th>Gender</th>\n",
       "      <th>Age</th>\n",
       "      <th>Tenure</th>\n",
       "      <th>Balance</th>\n",
       "      <th>NumOfProducts</th>\n",
       "      <th>HasCrCard</th>\n",
       "      <th>IsActiveMember</th>\n",
       "      <th>EstimatedSalary</th>\n",
       "      <th>Exited</th>\n",
       "    </tr>\n",
       "  </thead>\n",
       "  <tbody>\n",
       "    <tr>\n",
       "      <th>29</th>\n",
       "      <td>30</td>\n",
       "      <td>15656300</td>\n",
       "      <td>Lucciano</td>\n",
       "      <td>411</td>\n",
       "      <td>France</td>\n",
       "      <td>Male</td>\n",
       "      <td>29</td>\n",
       "      <td>0.000</td>\n",
       "      <td>59697.170</td>\n",
       "      <td>2</td>\n",
       "      <td>1</td>\n",
       "      <td>1</td>\n",
       "      <td>53483.210</td>\n",
       "      <td>0</td>\n",
       "    </tr>\n",
       "    <tr>\n",
       "      <th>35</th>\n",
       "      <td>36</td>\n",
       "      <td>15794171</td>\n",
       "      <td>Lombardo</td>\n",
       "      <td>475</td>\n",
       "      <td>France</td>\n",
       "      <td>Female</td>\n",
       "      <td>45</td>\n",
       "      <td>0.000</td>\n",
       "      <td>134264.040</td>\n",
       "      <td>1</td>\n",
       "      <td>1</td>\n",
       "      <td>0</td>\n",
       "      <td>27822.990</td>\n",
       "      <td>1</td>\n",
       "    </tr>\n",
       "    <tr>\n",
       "      <th>57</th>\n",
       "      <td>58</td>\n",
       "      <td>15647091</td>\n",
       "      <td>Endrizzi</td>\n",
       "      <td>725</td>\n",
       "      <td>Germany</td>\n",
       "      <td>Male</td>\n",
       "      <td>19</td>\n",
       "      <td>0.000</td>\n",
       "      <td>75888.200</td>\n",
       "      <td>1</td>\n",
       "      <td>0</td>\n",
       "      <td>0</td>\n",
       "      <td>45613.750</td>\n",
       "      <td>0</td>\n",
       "    </tr>\n",
       "    <tr>\n",
       "      <th>72</th>\n",
       "      <td>73</td>\n",
       "      <td>15812518</td>\n",
       "      <td>Palermo</td>\n",
       "      <td>657</td>\n",
       "      <td>Spain</td>\n",
       "      <td>Female</td>\n",
       "      <td>37</td>\n",
       "      <td>0.000</td>\n",
       "      <td>163607.180</td>\n",
       "      <td>1</td>\n",
       "      <td>0</td>\n",
       "      <td>1</td>\n",
       "      <td>44203.550</td>\n",
       "      <td>0</td>\n",
       "    </tr>\n",
       "    <tr>\n",
       "      <th>127</th>\n",
       "      <td>128</td>\n",
       "      <td>15782688</td>\n",
       "      <td>Piccio</td>\n",
       "      <td>625</td>\n",
       "      <td>Germany</td>\n",
       "      <td>Male</td>\n",
       "      <td>56</td>\n",
       "      <td>0.000</td>\n",
       "      <td>148507.240</td>\n",
       "      <td>1</td>\n",
       "      <td>1</td>\n",
       "      <td>0</td>\n",
       "      <td>46824.080</td>\n",
       "      <td>1</td>\n",
       "    </tr>\n",
       "    <tr>\n",
       "      <th>...</th>\n",
       "      <td>...</td>\n",
       "      <td>...</td>\n",
       "      <td>...</td>\n",
       "      <td>...</td>\n",
       "      <td>...</td>\n",
       "      <td>...</td>\n",
       "      <td>...</td>\n",
       "      <td>...</td>\n",
       "      <td>...</td>\n",
       "      <td>...</td>\n",
       "      <td>...</td>\n",
       "      <td>...</td>\n",
       "      <td>...</td>\n",
       "      <td>...</td>\n",
       "    </tr>\n",
       "    <tr>\n",
       "      <th>9793</th>\n",
       "      <td>9794</td>\n",
       "      <td>15772363</td>\n",
       "      <td>Hilton</td>\n",
       "      <td>772</td>\n",
       "      <td>Germany</td>\n",
       "      <td>Female</td>\n",
       "      <td>42</td>\n",
       "      <td>0.000</td>\n",
       "      <td>101979.160</td>\n",
       "      <td>1</td>\n",
       "      <td>1</td>\n",
       "      <td>0</td>\n",
       "      <td>90928.480</td>\n",
       "      <td>0</td>\n",
       "    </tr>\n",
       "    <tr>\n",
       "      <th>9799</th>\n",
       "      <td>9800</td>\n",
       "      <td>15722731</td>\n",
       "      <td>Manna</td>\n",
       "      <td>653</td>\n",
       "      <td>France</td>\n",
       "      <td>Male</td>\n",
       "      <td>46</td>\n",
       "      <td>0.000</td>\n",
       "      <td>119556.100</td>\n",
       "      <td>1</td>\n",
       "      <td>1</td>\n",
       "      <td>0</td>\n",
       "      <td>78250.130</td>\n",
       "      <td>1</td>\n",
       "    </tr>\n",
       "    <tr>\n",
       "      <th>9843</th>\n",
       "      <td>9844</td>\n",
       "      <td>15778304</td>\n",
       "      <td>Fan</td>\n",
       "      <td>646</td>\n",
       "      <td>Germany</td>\n",
       "      <td>Male</td>\n",
       "      <td>24</td>\n",
       "      <td>0.000</td>\n",
       "      <td>92398.080</td>\n",
       "      <td>1</td>\n",
       "      <td>1</td>\n",
       "      <td>1</td>\n",
       "      <td>18897.290</td>\n",
       "      <td>0</td>\n",
       "    </tr>\n",
       "    <tr>\n",
       "      <th>9868</th>\n",
       "      <td>9869</td>\n",
       "      <td>15587640</td>\n",
       "      <td>Rowntree</td>\n",
       "      <td>718</td>\n",
       "      <td>France</td>\n",
       "      <td>Female</td>\n",
       "      <td>43</td>\n",
       "      <td>0.000</td>\n",
       "      <td>93143.390</td>\n",
       "      <td>1</td>\n",
       "      <td>1</td>\n",
       "      <td>0</td>\n",
       "      <td>167554.860</td>\n",
       "      <td>0</td>\n",
       "    </tr>\n",
       "    <tr>\n",
       "      <th>9919</th>\n",
       "      <td>9920</td>\n",
       "      <td>15798084</td>\n",
       "      <td>Murray</td>\n",
       "      <td>688</td>\n",
       "      <td>France</td>\n",
       "      <td>Male</td>\n",
       "      <td>26</td>\n",
       "      <td>0.000</td>\n",
       "      <td>0.000</td>\n",
       "      <td>2</td>\n",
       "      <td>1</td>\n",
       "      <td>0</td>\n",
       "      <td>105784.850</td>\n",
       "      <td>0</td>\n",
       "    </tr>\n",
       "  </tbody>\n",
       "</table>\n",
       "<p>382 rows × 14 columns</p>\n",
       "</div>"
      ],
      "text/plain": [
       "      RowNumber  CustomerId   Surname  CreditScore Geography  Gender  Age  \\\n",
       "29           30    15656300  Lucciano          411    France    Male   29   \n",
       "35           36    15794171  Lombardo          475    France  Female   45   \n",
       "57           58    15647091  Endrizzi          725   Germany    Male   19   \n",
       "72           73    15812518   Palermo          657     Spain  Female   37   \n",
       "127         128    15782688    Piccio          625   Germany    Male   56   \n",
       "...         ...         ...       ...          ...       ...     ...  ...   \n",
       "9793       9794    15772363    Hilton          772   Germany  Female   42   \n",
       "9799       9800    15722731     Manna          653    France    Male   46   \n",
       "9843       9844    15778304       Fan          646   Germany    Male   24   \n",
       "9868       9869    15587640  Rowntree          718    France  Female   43   \n",
       "9919       9920    15798084    Murray          688    France    Male   26   \n",
       "\n",
       "      Tenure    Balance  NumOfProducts  HasCrCard  IsActiveMember  \\\n",
       "29     0.000  59697.170              2          1               1   \n",
       "35     0.000 134264.040              1          1               0   \n",
       "57     0.000  75888.200              1          0               0   \n",
       "72     0.000 163607.180              1          0               1   \n",
       "127    0.000 148507.240              1          1               0   \n",
       "...      ...        ...            ...        ...             ...   \n",
       "9793   0.000 101979.160              1          1               0   \n",
       "9799   0.000 119556.100              1          1               0   \n",
       "9843   0.000  92398.080              1          1               1   \n",
       "9868   0.000  93143.390              1          1               0   \n",
       "9919   0.000      0.000              2          1               0   \n",
       "\n",
       "      EstimatedSalary  Exited  \n",
       "29          53483.210       0  \n",
       "35          27822.990       1  \n",
       "57          45613.750       0  \n",
       "72          44203.550       0  \n",
       "127         46824.080       1  \n",
       "...               ...     ...  \n",
       "9793        90928.480       0  \n",
       "9799        78250.130       1  \n",
       "9843        18897.290       0  \n",
       "9868       167554.860       0  \n",
       "9919       105784.850       0  \n",
       "\n",
       "[382 rows x 14 columns]"
      ]
     },
     "execution_count": 55,
     "metadata": {},
     "output_type": "execute_result"
    }
   ],
   "source": [
    "#посмотрим на этих людей\n",
    "df.loc[df['Tenure'] == 0]"
   ]
  },
  {
   "cell_type": "markdown",
   "metadata": {},
   "source": [
    "Либо чем-то заполнить, либо удалить. **Заполнить** - данное значение не как не коррелирует с остальными значениями в данных. Т.е. вывести закономерности не возможно. Просто присвоить медианное, среднее, min или  max, тоже не правильно так как таких значений около 10% и мы можем изменить статистику данных. **Удалить** - мне кажется это тоже не самое верное решение. Как раз таки потому, что таких значений хоть и меньше 10%, но все таки они логичгые по заполнению! Мы потерям коло 10% базы. "
   ]
  },
  {
   "cell_type": "markdown",
   "metadata": {},
   "source": [
    "Как мне кажется (выдвигаю свои предположения), система банка при формировании значения сколько лет, существует данный клиент, не заполняет значения \"0\". Т.е. 382 клиента пользуются услугами банка меньше года."
   ]
  },
  {
   "attachments": {},
   "cell_type": "markdown",
   "metadata": {},
   "source": [
    "<br> Возможно, что групповая (например по географии) медиана также не принесла бы большой ошибки. А может взять и удалить, чтобы не \"искушаться\"... Всем же понятно, что однозначного решения здесь нет, как и алгоритма. Правило только одно (как в медицине) - НЕ нарведи. Т.е. принимаемое решение должно соотноситься с возможным ущербом на конечный результат. В нашем случае ущерб от медианного заполнения ниже от ущерба удалить данные?. Причём выше/ниже - это только на чуйке/жизенном опыте смого аналитика.<br>\n",
    "Интересная это работа - быть DS-аналитиком)<br><br>\n",
    "    \n",
    "В данном случае, спарведливости ради, если построить распределение ДО и ПОСЛЕ заполнения пропусков, то увидим, что оно изменится. Т.е. данный подход несколько исказит инфо.<br> Тут лучшим способом будет - заполнение случайным числом.<br>\n",
    "    \n",
    "Ещё вараинт:<br> удалить пропущенные строки. А по окнчании построения модели, вывести важность факторов самой модели. И если фактор tenure окажется не значим, то как в принципе удалить его из моделирования, а первоначально удалённые строки - вернуть.    "
   ]
  },
  {
   "cell_type": "code",
   "execution_count": 56,
   "metadata": {},
   "outputs": [],
   "source": [
    "# заменим пропуски на \"0\"\n",
    "df['Tenure'] = df['Tenure'].fillna(0)"
   ]
  },
  {
   "cell_type": "code",
   "execution_count": 57,
   "metadata": {},
   "outputs": [
    {
     "data": {
      "text/plain": [
       "RowNumber          0\n",
       "CustomerId         0\n",
       "Surname            0\n",
       "CreditScore        0\n",
       "Geography          0\n",
       "Gender             0\n",
       "Age                0\n",
       "Tenure             0\n",
       "Balance            0\n",
       "NumOfProducts      0\n",
       "HasCrCard          0\n",
       "IsActiveMember     0\n",
       "EstimatedSalary    0\n",
       "Exited             0\n",
       "dtype: int64"
      ]
     },
     "execution_count": 57,
     "metadata": {},
     "output_type": "execute_result"
    }
   ],
   "source": [
    "#перепроверка\n",
    "df.isna().sum()"
   ]
  },
  {
   "cell_type": "code",
   "execution_count": 58,
   "metadata": {},
   "outputs": [
    {
     "name": "stdout",
     "output_type": "stream",
     "text": [
      "<class 'pandas.core.frame.DataFrame'>\n",
      "RangeIndex: 10000 entries, 0 to 9999\n",
      "Data columns (total 14 columns):\n",
      " #   Column           Non-Null Count  Dtype  \n",
      "---  ------           --------------  -----  \n",
      " 0   RowNumber        10000 non-null  int64  \n",
      " 1   CustomerId       10000 non-null  int64  \n",
      " 2   Surname          10000 non-null  object \n",
      " 3   CreditScore      10000 non-null  int64  \n",
      " 4   Geography        10000 non-null  object \n",
      " 5   Gender           10000 non-null  object \n",
      " 6   Age              10000 non-null  int64  \n",
      " 7   Tenure           10000 non-null  float64\n",
      " 8   Balance          10000 non-null  float64\n",
      " 9   NumOfProducts    10000 non-null  int64  \n",
      " 10  HasCrCard        10000 non-null  int64  \n",
      " 11  IsActiveMember   10000 non-null  int64  \n",
      " 12  EstimatedSalary  10000 non-null  float64\n",
      " 13  Exited           10000 non-null  int64  \n",
      "dtypes: float64(3), int64(8), object(3)\n",
      "memory usage: 1.1+ MB\n"
     ]
    }
   ],
   "source": [
    "#перепроверка\n",
    "df.info()"
   ]
  },
  {
   "cell_type": "markdown",
   "metadata": {},
   "source": [
    "**1.2 Проведем анализ данных**"
   ]
  },
  {
   "cell_type": "code",
   "execution_count": 59,
   "metadata": {},
   "outputs": [
    {
     "data": {
      "image/png": "[encoded data removed]",
      "text/plain": [
       "<Figure size 864x432 with 1 Axes>"
      ]
     },
     "metadata": {},
     "output_type": "display_data"
    }
   ],
   "source": [
    "df['Geography'].value_counts().plot.pie(legend=True, autopct='%1.2f%%', figsize=(12,6))\n",
    "plt.title('Страна проживания клиента')\n",
    "plt.show()"
   ]
  },
  {
   "cell_type": "markdown",
   "metadata": {},
   "source": [
    "Складывается впечатление, что Банк находится где-то во Франции. Ну или страны Бенилюкса."
   ]
  },
  {
   "cell_type": "code",
   "execution_count": 60,
   "metadata": {},
   "outputs": [
    {
     "data": {
      "image/png": "[encoded data removed]",
      "text/plain": [
       "<Figure size 864x432 with 1 Axes>"
      ]
     },
     "metadata": {},
     "output_type": "display_data"
    }
   ],
   "source": [
    "df['Gender'].value_counts().plot.pie(legend=True, autopct='%1.2f%%', figsize=(12,6))\n",
    "plt.title('Соотношение полов клиентов в Банке')\n",
    "plt.show()"
   ]
  },
  {
   "cell_type": "markdown",
   "metadata": {},
   "source": [
    "Мужчин не значительно больше, чем женщин."
   ]
  },
  {
   "cell_type": "code",
   "execution_count": 61,
   "metadata": {},
   "outputs": [
    {
     "data": {
      "image/png": "[encoded data removed]",
      "text/plain": [
       "<Figure size 864x576 with 1 Axes>"
      ]
     },
     "metadata": {
      "needs_background": "light"
     },
     "output_type": "display_data"
    }
   ],
   "source": [
    "(\n",
    "    df.pivot_table(index= 'Age', values='IsActiveMember', aggfunc='sum')\n",
    "    .plot(legend=False, grid=True, style='-o', figsize=(12, 8))\n",
    ")\n",
    "plt.title('Возраст клиента')\n",
    "plt.xlabel('Года')\n",
    "plt.ylabel('Кол-во людей')\n",
    "plt.show()"
   ]
  },
  {
   "cell_type": "code",
   "execution_count": 62,
   "metadata": {},
   "outputs": [
    {
     "data": {
      "text/plain": [
       "18"
      ]
     },
     "execution_count": 62,
     "metadata": {},
     "output_type": "execute_result"
    }
   ],
   "source": [
    "df['Age'].min()"
   ]
  },
  {
   "cell_type": "code",
   "execution_count": 63,
   "metadata": {},
   "outputs": [
    {
     "data": {
      "text/plain": [
       "92"
      ]
     },
     "execution_count": 63,
     "metadata": {},
     "output_type": "execute_result"
    }
   ],
   "source": [
    "df['Age'].max()"
   ]
  },
  {
   "cell_type": "code",
   "execution_count": 64,
   "metadata": {},
   "outputs": [
    {
     "data": {
      "text/plain": [
       "37    478\n",
       "38    477\n",
       "35    474\n",
       "36    456\n",
       "34    447\n",
       "33    442\n",
       "40    432\n",
       "39    423\n",
       "32    418\n",
       "31    404\n",
       "Name: Age, dtype: int64"
      ]
     },
     "execution_count": 64,
     "metadata": {},
     "output_type": "execute_result"
    }
   ],
   "source": [
    "df['Age'].value_counts().head(10)"
   ]
  },
  {
   "cell_type": "markdown",
   "metadata": {},
   "source": [
    "Самому молодому клиенту 18 лет; самому пожилому - 92 года. Больше всего клиентов с 30 до 40 лет. График построен только для активных клиентов банка."
   ]
  },
  {
   "cell_type": "code",
   "execution_count": 65,
   "metadata": {},
   "outputs": [
    {
     "data": {
      "image/png": "[encoded data removed]",
      "text/plain": [
       "<Figure size 864x432 with 1 Axes>"
      ]
     },
     "metadata": {},
     "output_type": "display_data"
    }
   ],
   "source": [
    "df['Tenure'].value_counts().plot.pie(legend=True, autopct='%1.2f%%', figsize=(12,6))\n",
    "plt.title('Сколько лет человек является клиентом банка')\n",
    "plt.show()"
   ]
  },
  {
   "cell_type": "markdown",
   "metadata": {},
   "source": [
    "Равномерно распределенные значения по годам."
   ]
  },
  {
   "cell_type": "code",
   "execution_count": 66,
   "metadata": {},
   "outputs": [
    {
     "data": {
      "image/png": "[encoded data removed]",
      "text/plain": [
       "<Figure size 864x432 with 1 Axes>"
      ]
     },
     "metadata": {},
     "output_type": "display_data"
    }
   ],
   "source": [
    "df['NumOfProducts'].value_counts().plot.pie(legend=True, autopct='%1.2f%%', figsize=(12,6))\n",
    "plt.title('Соотношение услуг которые представлят банк и используемых клиентами')\n",
    "plt.show()"
   ]
  },
  {
   "cell_type": "markdown",
   "metadata": {},
   "source": [
    "Судя по всему (по крайней мере из данных) банк представляет только 4 услуги, при чем 2 из них вообще не востребованны (3 и 4)"
   ]
  },
  {
   "cell_type": "code",
   "execution_count": 67,
   "metadata": {},
   "outputs": [
    {
     "data": {
      "image/png": "[encoded data removed]",
      "text/plain": [
       "<Figure size 864x432 with 1 Axes>"
      ]
     },
     "metadata": {},
     "output_type": "display_data"
    }
   ],
   "source": [
    "df['HasCrCard'].value_counts().plot.pie(legend=True, autopct='%1.2f%%', figsize=(12,6))\n",
    "plt.title('Наличие кредитной карты у клиента')\n",
    "plt.show()"
   ]
  },
  {
   "cell_type": "code",
   "execution_count": 68,
   "metadata": {},
   "outputs": [
    {
     "data": {
      "image/png": "[encoded data removed]",
      "text/plain": [
       "<Figure size 864x432 with 1 Axes>"
      ]
     },
     "metadata": {},
     "output_type": "display_data"
    }
   ],
   "source": [
    "df['IsActiveMember'].value_counts().plot.pie(legend=True, autopct='%1.2f%%', figsize=(12,6))\n",
    "plt.title('Отношение клиенской активности')\n",
    "plt.show()"
   ]
  },
  {
   "cell_type": "markdown",
   "metadata": {},
   "source": [
    "Половина клиентов банка активна."
   ]
  },
  {
   "cell_type": "code",
   "execution_count": 69,
   "metadata": {},
   "outputs": [
    {
     "data": {
      "image/png": "[encoded data removed]",
      "text/plain": [
       "<Figure size 864x432 with 1 Axes>"
      ]
     },
     "metadata": {},
     "output_type": "display_data"
    }
   ],
   "source": [
    "df['Exited'].value_counts().plot.pie(legend=True, autopct='%1.2f%%', figsize=(12,6))\n",
    "plt.title('Соотношение ушедших и оставшихся клиентов')\n",
    "plt.show()"
   ]
  },
  {
   "cell_type": "markdown",
   "metadata": {},
   "source": [
    "**Выводы по разделу:** после проведенного мною первичного анализа данных мне кажется они очень \"учебные\". По всей видимости когда их готовили, то шлифовали под математику: чуток потерь, классическое разбиение по данным. Ближе к теме банка: не очень понятно как интерпритировать данные \"Клиенскую активность\" (как она высчитываются?); соотношение ушедших и оставшихся клиентов это за какой период данные (ушли за месяц, за неделю????). Вообщем нужно больше инфы!"
   ]
  },
  {
   "cell_type": "markdown",
   "metadata": {},
   "source": [
    "## Исследование задачи"
   ]
  },
  {
   "cell_type": "code",
   "execution_count": 70,
   "metadata": {},
   "outputs": [
    {
     "data": {
      "text/html": [
       "<div>\n",
       "<style scoped>\n",
       "    .dataframe tbody tr th:only-of-type {\n",
       "        vertical-align: middle;\n",
       "    }\n",
       "\n",
       "    .dataframe tbody tr th {\n",
       "        vertical-align: top;\n",
       "    }\n",
       "\n",
       "    .dataframe thead th {\n",
       "        text-align: right;\n",
       "    }\n",
       "</style>\n",
       "<table border=\"1\" class=\"dataframe\">\n",
       "  <thead>\n",
       "    <tr style=\"text-align: right;\">\n",
       "      <th></th>\n",
       "      <th>CreditScore</th>\n",
       "      <th>Geography</th>\n",
       "      <th>Gender</th>\n",
       "      <th>Age</th>\n",
       "      <th>Tenure</th>\n",
       "      <th>Balance</th>\n",
       "      <th>NumOfProducts</th>\n",
       "      <th>HasCrCard</th>\n",
       "      <th>IsActiveMember</th>\n",
       "      <th>EstimatedSalary</th>\n",
       "      <th>Exited</th>\n",
       "    </tr>\n",
       "  </thead>\n",
       "  <tbody>\n",
       "    <tr>\n",
       "      <th>0</th>\n",
       "      <td>619</td>\n",
       "      <td>France</td>\n",
       "      <td>Female</td>\n",
       "      <td>42</td>\n",
       "      <td>2.000</td>\n",
       "      <td>0.000</td>\n",
       "      <td>1</td>\n",
       "      <td>1</td>\n",
       "      <td>1</td>\n",
       "      <td>101348.880</td>\n",
       "      <td>1</td>\n",
       "    </tr>\n",
       "    <tr>\n",
       "      <th>1</th>\n",
       "      <td>608</td>\n",
       "      <td>Spain</td>\n",
       "      <td>Female</td>\n",
       "      <td>41</td>\n",
       "      <td>1.000</td>\n",
       "      <td>83807.860</td>\n",
       "      <td>1</td>\n",
       "      <td>0</td>\n",
       "      <td>1</td>\n",
       "      <td>112542.580</td>\n",
       "      <td>0</td>\n",
       "    </tr>\n",
       "    <tr>\n",
       "      <th>2</th>\n",
       "      <td>502</td>\n",
       "      <td>France</td>\n",
       "      <td>Female</td>\n",
       "      <td>42</td>\n",
       "      <td>8.000</td>\n",
       "      <td>159660.800</td>\n",
       "      <td>3</td>\n",
       "      <td>1</td>\n",
       "      <td>0</td>\n",
       "      <td>113931.570</td>\n",
       "      <td>1</td>\n",
       "    </tr>\n",
       "    <tr>\n",
       "      <th>3</th>\n",
       "      <td>699</td>\n",
       "      <td>France</td>\n",
       "      <td>Female</td>\n",
       "      <td>39</td>\n",
       "      <td>1.000</td>\n",
       "      <td>0.000</td>\n",
       "      <td>2</td>\n",
       "      <td>0</td>\n",
       "      <td>0</td>\n",
       "      <td>93826.630</td>\n",
       "      <td>0</td>\n",
       "    </tr>\n",
       "    <tr>\n",
       "      <th>4</th>\n",
       "      <td>850</td>\n",
       "      <td>Spain</td>\n",
       "      <td>Female</td>\n",
       "      <td>43</td>\n",
       "      <td>2.000</td>\n",
       "      <td>125510.820</td>\n",
       "      <td>1</td>\n",
       "      <td>1</td>\n",
       "      <td>1</td>\n",
       "      <td>79084.100</td>\n",
       "      <td>0</td>\n",
       "    </tr>\n",
       "  </tbody>\n",
       "</table>\n",
       "</div>"
      ],
      "text/plain": [
       "   CreditScore Geography  Gender  Age  Tenure    Balance  NumOfProducts  \\\n",
       "0          619    France  Female   42   2.000      0.000              1   \n",
       "1          608     Spain  Female   41   1.000  83807.860              1   \n",
       "2          502    France  Female   42   8.000 159660.800              3   \n",
       "3          699    France  Female   39   1.000      0.000              2   \n",
       "4          850     Spain  Female   43   2.000 125510.820              1   \n",
       "\n",
       "   HasCrCard  IsActiveMember  EstimatedSalary  Exited  \n",
       "0          1               1       101348.880       1  \n",
       "1          0               1       112542.580       0  \n",
       "2          1               0       113931.570       1  \n",
       "3          0               0        93826.630       0  \n",
       "4          1               1        79084.100       0  "
      ]
     },
     "execution_count": 70,
     "metadata": {},
     "output_type": "execute_result"
    }
   ],
   "source": [
    "#удалим не нужные столбцы\n",
    "df = df.drop(['RowNumber', 'CustomerId','Surname'], axis=1)\n",
    "df.head(5)"
   ]
  },
  {
   "cell_type": "markdown",
   "metadata": {},
   "source": [
    "Есть небольшая проблема: наши данные содержат категориальные признаки. Все признаки должны стать количественными, поэтому нам подходит техника прямого кодирования, или отображения (англ. One-Hot Encoding, OHE)."
   ]
  },
  {
   "cell_type": "code",
   "execution_count": 71,
   "metadata": {},
   "outputs": [
    {
     "data": {
      "text/html": [
       "<div>\n",
       "<style scoped>\n",
       "    .dataframe tbody tr th:only-of-type {\n",
       "        vertical-align: middle;\n",
       "    }\n",
       "\n",
       "    .dataframe tbody tr th {\n",
       "        vertical-align: top;\n",
       "    }\n",
       "\n",
       "    .dataframe thead th {\n",
       "        text-align: right;\n",
       "    }\n",
       "</style>\n",
       "<table border=\"1\" class=\"dataframe\">\n",
       "  <thead>\n",
       "    <tr style=\"text-align: right;\">\n",
       "      <th></th>\n",
       "      <th>CreditScore</th>\n",
       "      <th>Age</th>\n",
       "      <th>Tenure</th>\n",
       "      <th>Balance</th>\n",
       "      <th>NumOfProducts</th>\n",
       "      <th>HasCrCard</th>\n",
       "      <th>IsActiveMember</th>\n",
       "      <th>EstimatedSalary</th>\n",
       "      <th>Exited</th>\n",
       "      <th>Geography_Germany</th>\n",
       "      <th>Geography_Spain</th>\n",
       "      <th>Gender_Male</th>\n",
       "    </tr>\n",
       "  </thead>\n",
       "  <tbody>\n",
       "    <tr>\n",
       "      <th>0</th>\n",
       "      <td>619</td>\n",
       "      <td>42</td>\n",
       "      <td>2.000</td>\n",
       "      <td>0.000</td>\n",
       "      <td>1</td>\n",
       "      <td>1</td>\n",
       "      <td>1</td>\n",
       "      <td>101348.880</td>\n",
       "      <td>1</td>\n",
       "      <td>0</td>\n",
       "      <td>0</td>\n",
       "      <td>0</td>\n",
       "    </tr>\n",
       "    <tr>\n",
       "      <th>1</th>\n",
       "      <td>608</td>\n",
       "      <td>41</td>\n",
       "      <td>1.000</td>\n",
       "      <td>83807.860</td>\n",
       "      <td>1</td>\n",
       "      <td>0</td>\n",
       "      <td>1</td>\n",
       "      <td>112542.580</td>\n",
       "      <td>0</td>\n",
       "      <td>0</td>\n",
       "      <td>1</td>\n",
       "      <td>0</td>\n",
       "    </tr>\n",
       "    <tr>\n",
       "      <th>2</th>\n",
       "      <td>502</td>\n",
       "      <td>42</td>\n",
       "      <td>8.000</td>\n",
       "      <td>159660.800</td>\n",
       "      <td>3</td>\n",
       "      <td>1</td>\n",
       "      <td>0</td>\n",
       "      <td>113931.570</td>\n",
       "      <td>1</td>\n",
       "      <td>0</td>\n",
       "      <td>0</td>\n",
       "      <td>0</td>\n",
       "    </tr>\n",
       "    <tr>\n",
       "      <th>3</th>\n",
       "      <td>699</td>\n",
       "      <td>39</td>\n",
       "      <td>1.000</td>\n",
       "      <td>0.000</td>\n",
       "      <td>2</td>\n",
       "      <td>0</td>\n",
       "      <td>0</td>\n",
       "      <td>93826.630</td>\n",
       "      <td>0</td>\n",
       "      <td>0</td>\n",
       "      <td>0</td>\n",
       "      <td>0</td>\n",
       "    </tr>\n",
       "    <tr>\n",
       "      <th>4</th>\n",
       "      <td>850</td>\n",
       "      <td>43</td>\n",
       "      <td>2.000</td>\n",
       "      <td>125510.820</td>\n",
       "      <td>1</td>\n",
       "      <td>1</td>\n",
       "      <td>1</td>\n",
       "      <td>79084.100</td>\n",
       "      <td>0</td>\n",
       "      <td>0</td>\n",
       "      <td>1</td>\n",
       "      <td>0</td>\n",
       "    </tr>\n",
       "  </tbody>\n",
       "</table>\n",
       "</div>"
      ],
      "text/plain": [
       "   CreditScore  Age  Tenure    Balance  NumOfProducts  HasCrCard  \\\n",
       "0          619   42   2.000      0.000              1          1   \n",
       "1          608   41   1.000  83807.860              1          0   \n",
       "2          502   42   8.000 159660.800              3          1   \n",
       "3          699   39   1.000      0.000              2          0   \n",
       "4          850   43   2.000 125510.820              1          1   \n",
       "\n",
       "   IsActiveMember  EstimatedSalary  Exited  Geography_Germany  \\\n",
       "0               1       101348.880       1                  0   \n",
       "1               1       112542.580       0                  0   \n",
       "2               0       113931.570       1                  0   \n",
       "3               0        93826.630       0                  0   \n",
       "4               1        79084.100       0                  0   \n",
       "\n",
       "   Geography_Spain  Gender_Male  \n",
       "0                0            0  \n",
       "1                1            0  \n",
       "2                0            0  \n",
       "3                0            0  \n",
       "4                1            0  "
      ]
     },
     "execution_count": 71,
     "metadata": {},
     "output_type": "execute_result"
    }
   ],
   "source": [
    "#применим прямое кодирование и проверим\n",
    "data_ohe = pd.get_dummies(df, drop_first=True)\n",
    "data_ohe.head(5)"
   ]
  },
  {
   "cell_type": "code",
   "execution_count": null,
   "metadata": {},
   "outputs": [],
   "source": []
  },
  {
   "cell_type": "code",
   "execution_count": 72,
   "metadata": {},
   "outputs": [],
   "source": [
    "#целевой признак\n",
    "target = data_ohe['Exited']\n",
    "#признаки\n",
    "features = data_ohe.drop(['Exited'], axis=1)"
   ]
  },
  {
   "cell_type": "code",
   "execution_count": 73,
   "metadata": {},
   "outputs": [
    {
     "name": "stdout",
     "output_type": "stream",
     "text": [
      "(6000, 11) (2000, 11) (2000, 11)\n",
      "(6000,) (2000,) (2000,)\n"
     ]
    }
   ],
   "source": [
    "#разобьем исходные данные на три выборки: обучающую, валидационную (проверочную) и тестовую (60% / 20% / 20%)\n",
    "features_train, features_valid, target_train, target_valid = train_test_split(features, target, test_size=0.4, \n",
    "                                                                              random_state=12345, stratify=target)\n",
    "features_valid, features_test, target_valid, target_test = train_test_split(features_valid, target_valid, test_size=0.5, \n",
    "                                                                              random_state=12345, stratify=target_valid)\n",
    "print(features_train.shape, features_valid.shape, features_test.shape)\n",
    "print(target_train.shape, target_valid.shape, target_test.shape)"
   ]
  },
  {
   "cell_type": "markdown",
   "metadata": {},
   "source": [
    "Проведем \"стандартизацию данных\". Но не всех данных."
   ]
  },
  {
   "cell_type": "code",
   "execution_count": 74,
   "metadata": {},
   "outputs": [],
   "source": [
    "#стандартизируем признаки\n",
    "numeric = ['CreditScore', 'Age', 'Tenure', 'Balance', 'NumOfProducts', 'EstimatedSalary']\n",
    "scaler = StandardScaler()\n",
    "scaler.fit(features_train[numeric])\n",
    "features_train[numeric] = scaler.transform(features_train[numeric])\n",
    "features_valid[numeric] = scaler.transform(features_valid[numeric])\n",
    "features_test[numeric] = scaler.transform(features_test[numeric])"
   ]
  },
  {
   "cell_type": "code",
   "execution_count": 75,
   "metadata": {},
   "outputs": [
    {
     "data": {
      "text/html": [
       "<div>\n",
       "<style scoped>\n",
       "    .dataframe tbody tr th:only-of-type {\n",
       "        vertical-align: middle;\n",
       "    }\n",
       "\n",
       "    .dataframe tbody tr th {\n",
       "        vertical-align: top;\n",
       "    }\n",
       "\n",
       "    .dataframe thead th {\n",
       "        text-align: right;\n",
       "    }\n",
       "</style>\n",
       "<table border=\"1\" class=\"dataframe\">\n",
       "  <thead>\n",
       "    <tr style=\"text-align: right;\">\n",
       "      <th></th>\n",
       "      <th>CreditScore</th>\n",
       "      <th>Age</th>\n",
       "      <th>Tenure</th>\n",
       "      <th>Balance</th>\n",
       "      <th>NumOfProducts</th>\n",
       "      <th>HasCrCard</th>\n",
       "      <th>IsActiveMember</th>\n",
       "      <th>EstimatedSalary</th>\n",
       "      <th>Geography_Germany</th>\n",
       "      <th>Geography_Spain</th>\n",
       "      <th>Gender_Male</th>\n",
       "    </tr>\n",
       "  </thead>\n",
       "  <tbody>\n",
       "    <tr>\n",
       "      <th>657</th>\n",
       "      <td>-0.504</td>\n",
       "      <td>1.430</td>\n",
       "      <td>-1.140</td>\n",
       "      <td>0.874</td>\n",
       "      <td>0.821</td>\n",
       "      <td>1</td>\n",
       "      <td>1</td>\n",
       "      <td>1.725</td>\n",
       "      <td>1</td>\n",
       "      <td>0</td>\n",
       "      <td>0</td>\n",
       "    </tr>\n",
       "    <tr>\n",
       "      <th>2083</th>\n",
       "      <td>-1.195</td>\n",
       "      <td>-1.430</td>\n",
       "      <td>-1.140</td>\n",
       "      <td>-1.220</td>\n",
       "      <td>-0.915</td>\n",
       "      <td>1</td>\n",
       "      <td>1</td>\n",
       "      <td>1.204</td>\n",
       "      <td>0</td>\n",
       "      <td>0</td>\n",
       "      <td>1</td>\n",
       "    </tr>\n",
       "    <tr>\n",
       "      <th>3234</th>\n",
       "      <td>-1.267</td>\n",
       "      <td>0.763</td>\n",
       "      <td>-1.140</td>\n",
       "      <td>-1.220</td>\n",
       "      <td>-0.915</td>\n",
       "      <td>1</td>\n",
       "      <td>0</td>\n",
       "      <td>-1.375</td>\n",
       "      <td>0</td>\n",
       "      <td>0</td>\n",
       "      <td>1</td>\n",
       "    </tr>\n",
       "    <tr>\n",
       "      <th>1551</th>\n",
       "      <td>0.825</td>\n",
       "      <td>1.239</td>\n",
       "      <td>0.789</td>\n",
       "      <td>-1.220</td>\n",
       "      <td>0.821</td>\n",
       "      <td>0</td>\n",
       "      <td>1</td>\n",
       "      <td>0.382</td>\n",
       "      <td>0</td>\n",
       "      <td>1</td>\n",
       "      <td>0</td>\n",
       "    </tr>\n",
       "    <tr>\n",
       "      <th>2344</th>\n",
       "      <td>0.660</td>\n",
       "      <td>0.953</td>\n",
       "      <td>-0.176</td>\n",
       "      <td>0.267</td>\n",
       "      <td>-0.915</td>\n",
       "      <td>1</td>\n",
       "      <td>0</td>\n",
       "      <td>-1.614</td>\n",
       "      <td>1</td>\n",
       "      <td>0</td>\n",
       "      <td>0</td>\n",
       "    </tr>\n",
       "  </tbody>\n",
       "</table>\n",
       "</div>"
      ],
      "text/plain": [
       "      CreditScore    Age  Tenure  Balance  NumOfProducts  HasCrCard  \\\n",
       "657        -0.504  1.430  -1.140    0.874          0.821          1   \n",
       "2083       -1.195 -1.430  -1.140   -1.220         -0.915          1   \n",
       "3234       -1.267  0.763  -1.140   -1.220         -0.915          1   \n",
       "1551        0.825  1.239   0.789   -1.220          0.821          0   \n",
       "2344        0.660  0.953  -0.176    0.267         -0.915          1   \n",
       "\n",
       "      IsActiveMember  EstimatedSalary  Geography_Germany  Geography_Spain  \\\n",
       "657                1            1.725                  1                0   \n",
       "2083               1            1.204                  0                0   \n",
       "3234               0           -1.375                  0                0   \n",
       "1551               1            0.382                  0                1   \n",
       "2344               0           -1.614                  1                0   \n",
       "\n",
       "      Gender_Male  \n",
       "657             0  \n",
       "2083            1  \n",
       "3234            1  \n",
       "1551            0  \n",
       "2344            0  "
      ]
     },
     "execution_count": 75,
     "metadata": {},
     "output_type": "execute_result"
    }
   ],
   "source": [
    "features_test.head(5)"
   ]
  },
  {
   "cell_type": "code",
   "execution_count": null,
   "metadata": {},
   "outputs": [],
   "source": []
  },
  {
   "cell_type": "markdown",
   "metadata": {},
   "source": [
    "**Выводы по разделу:** Взял данные и подготовил их к машинному обучению. Для более наглядного анализа модель на фактических данных построю в 3 разделе."
   ]
  },
  {
   "cell_type": "markdown",
   "metadata": {},
   "source": [
    "## Борьба с дисбалансом"
   ]
  },
  {
   "cell_type": "code",
   "execution_count": 76,
   "metadata": {},
   "outputs": [
    {
     "data": {
      "text/plain": [
       "0    7963\n",
       "1    2037\n",
       "Name: Exited, dtype: int64"
      ]
     },
     "execution_count": 76,
     "metadata": {},
     "output_type": "execute_result"
    }
   ],
   "source": [
    "#проверим дисбаланс классов признака\n",
    "df['Exited'].value_counts()"
   ]
  },
  {
   "cell_type": "markdown",
   "metadata": {},
   "source": [
    "Соотношение 1:4 - классы несбалансированные. Будем менять параметры следующим образом:\n",
    "1. Изменим гиперпараметр class_weight='balanced' (Увеличиваем вес объектов редкого класса \"1\");\n",
    "2. Upsampling;\n",
    "3. Downsampling.\n",
    "\n",
    "Модель будем оценивать через F1-меру. "
   ]
  },
  {
   "cell_type": "markdown",
   "metadata": {},
   "source": [
    "*3.1 Изменим гиперпараметр class_weight='balanced' (Увеличиваем вес объектов редкого класса 1)*"
   ]
  },
  {
   "cell_type": "markdown",
   "metadata": {},
   "source": [
    "*3.1.1 Модель \"Решающее дерево\" (balanced)*"
   ]
  },
  {
   "cell_type": "code",
   "execution_count": 77,
   "metadata": {},
   "outputs": [
    {
     "name": "stdout",
     "output_type": "stream",
     "text": [
      "Лучшая F-мера 0.575925925925926 cо значением глубины = 6\n"
     ]
    }
   ],
   "source": [
    "best_model311 = None\n",
    "best_rezult311 = 0\n",
    "for depth in range(1, 10):\n",
    "    # определяем вид модели и ее гиперпараметры\n",
    "    model_311 = DecisionTreeClassifier(random_state=12345, max_depth=depth, class_weight='balanced')\n",
    "    \n",
    "    # обучаем модель на обучающем наборе данных\n",
    "    model_311.fit(features_train, target_train)\n",
    "    \n",
    "    # получаем предсказание модели\n",
    "    predictions_311 = model_311.predict(features_valid)\n",
    "    \n",
    "    # находим F1-меру\n",
    "    rezult311 = f1_score(target_valid, predictions_311)\n",
    "    \n",
    "    if best_rezult311 < rezult311:\n",
    "        best_rezult311 = rezult311\n",
    "        max_depth311 = depth\n",
    "        best_model311 = model_311\n",
    "\n",
    "print(\"Лучшая F-мера\", best_rezult311, 'cо значением глубины =', max_depth311)  "
   ]
  },
  {
   "cell_type": "markdown",
   "metadata": {},
   "source": [
    "*3.1.2 Модель \"Случайный лес\" (balanced)*"
   ]
  },
  {
   "cell_type": "code",
   "execution_count": 79,
   "metadata": {},
   "outputs": [
    {
     "name": "stdout",
     "output_type": "stream",
     "text": [
      "Лучшая F-мера 0.6511627906976746 cо значением глубины = 8 количество деревьев = 150\n"
     ]
    }
   ],
   "source": [
    "best_model312 = None\n",
    "best_rezult312 = 0\n",
    "best_depth312 = 0\n",
    "best_est312 = 0\n",
    "for estimator in range(10, 300, 10):\n",
    "    for depth in range(1, 10):\n",
    "        # определяем вид модели и ее гиперпараметры\n",
    "        model_312 = RandomForestClassifier(random_state=12345, n_estimators=estimator, \n",
    "                                           max_depth = depth, class_weight='balanced')\n",
    "    \n",
    "        # обучаем модель на обучающем наборе данных\n",
    "        model_312.fit(features_train, target_train)\n",
    "    \n",
    "        # получаем предсказание модели\n",
    "        predictions_312 = model_312.predict(features_valid)\n",
    "        \n",
    "        # находим F1-меру\n",
    "        rezult312 = f1_score(target_valid, predictions_312)\n",
    "        \n",
    "        if best_rezult312 < rezult312:\n",
    "            best_model312 = model_312\n",
    "            best_rezult312 = rezult312\n",
    "            best_depth312 = depth\n",
    "            best_est312 = estimator\n",
    "            \n",
    "print(\"Лучшая F-мера\", best_rezult312, 'cо значением глубины =', best_depth312, 'количество деревьев =', best_est312)"
   ]
  },
  {
   "cell_type": "markdown",
   "metadata": {},
   "source": [
    "*3.1.3 Модель \"Логистическая регрессия\" (balanced)*"
   ]
  },
  {
   "cell_type": "code",
   "execution_count": 34,
   "metadata": {},
   "outputs": [
    {
     "name": "stdout",
     "output_type": "stream",
     "text": [
      "Лучшая F-мера 0.5302897278314311\n"
     ]
    }
   ],
   "source": [
    "# определяем вид модели и ее гиперпараметры\n",
    "model_313 = LogisticRegression(random_state=12345, solver='liblinear', class_weight='balanced')\n",
    "\n",
    " # обучаем модель на обучающем наборе данных\n",
    "model_313.fit(features_train, target_train)\n",
    "\n",
    "# получаем предсказание модели\n",
    "predictions_313 = model_313.predict(features_valid)\n",
    "\n",
    "# находим F1-меру\n",
    "rezult313 = f1_score(target_valid, predictions_313)\n",
    "\n",
    "print(\"Лучшая F-мера\", rezult313)"
   ]
  },
  {
   "cell_type": "markdown",
   "metadata": {},
   "source": [
    "*3.2 Upsampling*"
   ]
  },
  {
   "cell_type": "markdown",
   "metadata": {},
   "source": [
    "*3.2.1 Модель \"Решающее дерево\" (Upsampling)*"
   ]
  },
  {
   "cell_type": "markdown",
   "metadata": {},
   "source": [
    "*3.2.2 Модель \"Случайный лес\" (Upsampling)*"
   ]
  },
  {
   "cell_type": "markdown",
   "metadata": {},
   "source": [
    "*3.2.3 Модель \"Логистическая регрессия\" (Upsampling)*"
   ]
  },
  {
   "cell_type": "markdown",
   "metadata": {},
   "source": [
    "*3.3 Downsampling*"
   ]
  },
  {
   "cell_type": "markdown",
   "metadata": {},
   "source": [
    "*3.3.1 Модель \"Решающее дерево\" (Downsampling)*"
   ]
  },
  {
   "cell_type": "markdown",
   "metadata": {},
   "source": [
    "*3.3.2 Модель \"Случайный лес\" (Downsampling)*"
   ]
  },
  {
   "cell_type": "markdown",
   "metadata": {},
   "source": [
    "*3.3.3 Модель \"Логистическая регрессия\" (Downsampling)*"
   ]
  },
  {
   "cell_type": "markdown",
   "metadata": {},
   "source": [
    "Было бы не правильно не проверить модель \"по факту\" без балансировки классов и посмотреть F1, чтобы уже более окончательно сделать выводы."
   ]
  },
  {
   "cell_type": "markdown",
   "metadata": {},
   "source": [
    "*3.4.1 Модель \"Решающее дерево\"*"
   ]
  },
  {
   "cell_type": "markdown",
   "metadata": {},
   "source": [
    "*3.4.2 Модель \"Случайный лес\"*"
   ]
  },
  {
   "cell_type": "markdown",
   "metadata": {},
   "source": [
    "*3.4.3 Модель \"Логистическая регрессия\"*"
   ]
  },
  {
   "cell_type": "code",
   "execution_count": null,
   "metadata": {},
   "outputs": [],
   "source": []
  },
  {
   "cell_type": "markdown",
   "metadata": {},
   "source": [
    "**Подведем итоги:**"
   ]
  },
  {
   "cell_type": "code",
   "execution_count": 43,
   "metadata": {},
   "outputs": [
    {
     "name": "stdout",
     "output_type": "stream",
     "text": [
      "Balanced\n",
      "Модель \"Решающее дерево\"  Лучшая F-мера 0.575925925925926 cо значением глубины = 6\n",
      "Модель \"Случайный лес\"    Лучшая F-мера 0.6511627906976746 cо значением глубины = 8 количество деревьев = 150\n",
      "Модель \"Лог. регрессия\"   Лучшая F-мера 0.5302897278314311\n"
     ]
    }
   ],
   "source": [
    "print ('Balanced')\n",
    "print('Модель \"Решающее дерево\" ',\"Лучшая F-мера\", best_rezult311, 'cо значением глубины =', max_depth311)\n",
    "print('Модель \"Случайный лес\"   ' ,\"Лучшая F-мера\", best_rezult312, 'cо значением глубины =', best_depth312, \n",
    "      'количество деревьев =', best_est312)\n",
    "print('Модель \"Лог. регрессия\"  ', \"Лучшая F-мера\", rezult313)\n",
    "#print ('')\n",
    "#print ('Upsampling')\n",
    "#print('Модель \"Решающее дерево\" ',\"Лучшая F-мера\", best_rezult321, 'cо значением глубины =', max_depth321)\n",
    "#print('Модель \"Случайный лес\"   ' ,\"Лучшая F-мера\", best_rezult322, 'cо значением глубины =', best_depth322, \n",
    "#      'количество деревьев =', best_est322)\n",
    "#print('Модель \"Лог. регрессия\"  ', \"Лучшая F-мера\", rezult323)\n",
    "#print ('')\n",
    "#print ('Downsampling')\n",
    "#print('Модель \"Решающее дерево\" ',\"Лучшая F-мера\", best_rezult331, 'cо значением глубины =', max_depth331)\n",
    "#print('Модель \"Случайный лес\"   ' ,\"Лучшая F-мера\", best_rezult332, 'cо значением глубины =', best_depth332, \n",
    "#      'количество деревьев =', best_est332)\n",
    "#print('Модель \"Лог. регрессия\"  ', \"Лучшая F-мера\", rezult333)\n",
    "#print ('')\n",
    "#print ('Actually')\n",
    "#print('Модель \"Решающее дерево\" ',\"Лучшая F-мера\", best_rezult341, 'cо значением глубины =', max_depth341)\n",
    "#print('Модель \"Случайный лес\"   ' ,\"Лучшая F-мера\", best_rezult342, 'cо значением глубины =', best_depth342, \n",
    "#      'количество деревьев =', best_est342)\n",
    "#print('Модель \"Лог. регрессия\"  ', \"Лучшая F-мера\", rezult343)"
   ]
  },
  {
   "cell_type": "markdown",
   "metadata": {},
   "source": []
  },
  {
   "cell_type": "markdown",
   "metadata": {},
   "source": [
    "**ПОБЕДИТЕЛЬ:**"
   ]
  },
  {
   "cell_type": "markdown",
   "metadata": {},
   "source": [
    "**- Параметр \"Balanced\"**"
   ]
  },
  {
   "cell_type": "markdown",
   "metadata": {},
   "source": [
    "**- Модель \"Случайный лес\"    Лучшая F-мера 0.6556655665566556 cо значением глубины = 8 количество деревьев = 150**"
   ]
  },
  {
   "cell_type": "markdown",
   "metadata": {},
   "source": [
    "Построим ROC-кривую лучшей модели"
   ]
  },
  {
   "cell_type": "code",
   "execution_count": 44,
   "metadata": {},
   "outputs": [
    {
     "name": "stdout",
     "output_type": "stream",
     "text": [
      "AUC-ROC =   0.8705152601241504\n"
     ]
    },
    {
     "data": {
      "image/png": "[encoded data removed]",
      "text/plain": [
       "<Figure size 864x648 with 1 Axes>"
      ]
     },
     "metadata": {
      "needs_background": "light"
     },
     "output_type": "display_data"
    }
   ],
   "source": [
    "plt.figure(figsize=[12,9])\n",
    "plt.plot([0, 1], [0, 1], linestyle='--', label='RandomModel')\n",
    "model_roc =  RandomForestClassifier(random_state=12345, n_estimators=150, max_depth = 8, class_weight='balanced')\n",
    "model_roc.fit(features_train, target_train)\n",
    "probabilities_valid = model_roc.predict_proba(features_valid)\n",
    "probabilities_one_valid = probabilities_valid[:, 1]\n",
    "fpr, tpr, thresholds = roc_curve(target_valid, probabilities_one_valid)\n",
    "auc_roc = roc_auc_score(target_valid, probabilities_one_valid)\n",
    "print('AUC-ROC =  ', auc_roc)\n",
    "\n",
    "plt.plot(fpr, tpr, label='RandomForestClassifier') # ROC-кривая случайной модели (выглядит как прямая)\n",
    "plt.xlim([0.0, 1.0])\n",
    "plt.ylim([0.0, 1.0])\n",
    "plt.xlabel('False Positive Rate')\n",
    "plt.ylabel('True Positive Rate')\n",
    "plt.title('ROC-кривая')\n",
    "plt.legend(loc='lower right', fontsize='x-large')\n",
    "plt.show()"
   ]
  },
  {
   "cell_type": "code",
   "execution_count": null,
   "metadata": {},
   "outputs": [],
   "source": []
  },
  {
   "cell_type": "markdown",
   "metadata": {},
   "source": [
    "**Выводы по разделу:** Опытным путем нашли, что модель \"Случайный лес\" с параметром \"Balanced\" имеет лучшую F-меру 0.6556655665566556 cо значением глубины = 8 количество деревьев = 150. Так же построим ROC-кривую лучшей модели. AUC-ROC =   0.8704074908858016 "
   ]
  },
  {
   "cell_type": "code",
   "execution_count": null,
   "metadata": {},
   "outputs": [],
   "source": []
  },
  {
   "cell_type": "markdown",
   "metadata": {},
   "source": [
    "## Тестирование модели"
   ]
  },
  {
   "cell_type": "code",
   "execution_count": 45,
   "metadata": {},
   "outputs": [],
   "source": [
    "# объеденим валидационную и тренировочную модель\n",
    "features_full_train = pd.concat([features_train, features_valid])\n",
    "target_full_train = pd.concat([target_train, target_valid])"
   ]
  },
  {
   "cell_type": "code",
   "execution_count": 42,
   "metadata": {},
   "outputs": [
    {
     "name": "stdout",
     "output_type": "stream",
     "text": [
      "Лучшая F-мера 0.6106870229007634\n",
      "AUC-ROC =   0.9255299167405656\n"
     ]
    }
   ],
   "source": [
    "model1 =  RandomForestClassifier(random_state=12345, n_estimators=150, max_depth = 8, class_weight='balanced')\n",
    "model1.fit(features_full_train, target_full_train)\n",
    "# получаем предсказание модели\n",
    "predictions1 = model1.predict(features_test) \n",
    "\n",
    "# находим F1-меру\n",
    "rezult1 = f1_score(target_test, predictions1)\n",
    "print(\"Лучшая F-мера\", rezult1)\n",
    "\n",
    "probabilities_valid1 = model1.predict_proba(features_valid)\n",
    "probabilities_one_valid1 = probabilities_valid1[:, 1]\n",
    "fpr, tpr, thresholds = roc_curve(target_valid, probabilities_one_valid1)\n",
    "auc_roc1 = roc_auc_score(target_valid, probabilities_one_valid1)\n",
    "print('AUC-ROC =  ', auc_roc1)"
   ]
  },
  {
   "cell_type": "markdown",
   "metadata": {},
   "source": [
    "**Судя по результатам, у меня получилась очень хорошая модель**"
   ]
  },
  {
   "cell_type": "code",
   "execution_count": null,
   "metadata": {},
   "outputs": [],
   "source": []
  },
  {
   "cell_type": "code",
   "execution_count": null,
   "metadata": {},
   "outputs": [],
   "source": []
  }
 ],
 "metadata": {
  "ExecuteTimeLog": [
   {
    "duration": 1222,
    "start_time": "2022-11-14T07:34:22.089Z"
   },
   {
    "duration": 83,
    "start_time": "2022-11-14T07:37:04.598Z"
   },
   {
    "duration": 29,
    "start_time": "2022-11-14T07:37:37.068Z"
   },
   {
    "duration": 18,
    "start_time": "2022-11-14T07:38:06.773Z"
   },
   {
    "duration": 47,
    "start_time": "2022-11-14T07:43:19.927Z"
   },
   {
    "duration": 9,
    "start_time": "2022-11-14T07:45:36.224Z"
   },
   {
    "duration": 17,
    "start_time": "2022-11-14T07:46:41.930Z"
   },
   {
    "duration": 132,
    "start_time": "2022-11-14T08:00:42.133Z"
   },
   {
    "duration": 25,
    "start_time": "2022-11-14T08:00:49.347Z"
   },
   {
    "duration": 8,
    "start_time": "2022-11-14T08:06:02.461Z"
   },
   {
    "duration": 9,
    "start_time": "2022-11-14T08:08:24.111Z"
   },
   {
    "duration": 10,
    "start_time": "2022-11-14T08:08:33.065Z"
   },
   {
    "duration": 21,
    "start_time": "2022-11-14T08:08:38.208Z"
   },
   {
    "duration": 22,
    "start_time": "2022-11-14T08:08:46.563Z"
   },
   {
    "duration": 6,
    "start_time": "2022-11-14T08:11:11.301Z"
   },
   {
    "duration": 7,
    "start_time": "2022-11-14T08:11:15.595Z"
   },
   {
    "duration": 20,
    "start_time": "2022-11-14T08:30:10.405Z"
   },
   {
    "duration": 31,
    "start_time": "2022-11-14T08:30:36.650Z"
   },
   {
    "duration": 25,
    "start_time": "2022-11-14T08:32:03.761Z"
   },
   {
    "duration": 9,
    "start_time": "2022-11-14T08:42:58.736Z"
   },
   {
    "duration": 5,
    "start_time": "2022-11-14T08:56:39.411Z"
   },
   {
    "duration": 13,
    "start_time": "2022-11-14T08:56:53.985Z"
   },
   {
    "duration": 9,
    "start_time": "2022-11-14T08:58:17.676Z"
   },
   {
    "duration": 20,
    "start_time": "2022-11-14T09:01:38.949Z"
   },
   {
    "duration": 1328,
    "start_time": "2022-11-14T09:01:46.865Z"
   },
   {
    "duration": 16,
    "start_time": "2022-11-14T09:01:48.472Z"
   },
   {
    "duration": 4,
    "start_time": "2022-11-14T09:02:08.697Z"
   },
   {
    "duration": 20,
    "start_time": "2022-11-14T09:02:10.479Z"
   },
   {
    "duration": 8,
    "start_time": "2022-11-14T09:02:16.324Z"
   },
   {
    "duration": 3,
    "start_time": "2022-11-14T09:02:30.364Z"
   },
   {
    "duration": 47,
    "start_time": "2022-11-14T09:02:30.564Z"
   },
   {
    "duration": 18,
    "start_time": "2022-11-14T09:02:30.763Z"
   },
   {
    "duration": 15,
    "start_time": "2022-11-14T09:02:30.951Z"
   },
   {
    "duration": 41,
    "start_time": "2022-11-14T09:02:31.153Z"
   },
   {
    "duration": 16,
    "start_time": "2022-11-14T09:02:31.360Z"
   },
   {
    "duration": 8,
    "start_time": "2022-11-14T09:02:31.560Z"
   },
   {
    "duration": 12,
    "start_time": "2022-11-14T09:02:31.740Z"
   },
   {
    "duration": 5,
    "start_time": "2022-11-14T09:02:32.336Z"
   },
   {
    "duration": 27,
    "start_time": "2022-11-14T09:02:32.545Z"
   },
   {
    "duration": 5,
    "start_time": "2022-11-14T09:02:32.946Z"
   },
   {
    "duration": 14,
    "start_time": "2022-11-14T09:02:33.144Z"
   },
   {
    "duration": 10,
    "start_time": "2022-11-14T09:02:33.343Z"
   },
   {
    "duration": 9,
    "start_time": "2022-11-14T09:17:43.846Z"
   },
   {
    "duration": 14,
    "start_time": "2022-11-14T09:17:49.367Z"
   },
   {
    "duration": 4,
    "start_time": "2022-11-14T11:14:10.964Z"
   },
   {
    "duration": 11,
    "start_time": "2022-11-14T11:18:53.296Z"
   },
   {
    "duration": 12,
    "start_time": "2022-11-14T11:18:58.460Z"
   },
   {
    "duration": 481,
    "start_time": "2022-11-14T11:19:28.015Z"
   },
   {
    "duration": 41,
    "start_time": "2022-11-14T11:19:28.498Z"
   },
   {
    "duration": 15,
    "start_time": "2022-11-14T11:19:28.580Z"
   },
   {
    "duration": 16,
    "start_time": "2022-11-14T11:19:28.847Z"
   },
   {
    "duration": 41,
    "start_time": "2022-11-14T11:19:28.971Z"
   },
   {
    "duration": 16,
    "start_time": "2022-11-14T11:19:29.102Z"
   },
   {
    "duration": 9,
    "start_time": "2022-11-14T11:19:29.221Z"
   },
   {
    "duration": 14,
    "start_time": "2022-11-14T11:19:29.349Z"
   },
   {
    "duration": 7,
    "start_time": "2022-11-14T11:19:29.759Z"
   },
   {
    "duration": 22,
    "start_time": "2022-11-14T11:19:29.896Z"
   },
   {
    "duration": 4,
    "start_time": "2022-11-14T11:19:30.296Z"
   },
   {
    "duration": 8,
    "start_time": "2022-11-14T11:19:30.422Z"
   },
   {
    "duration": 14,
    "start_time": "2022-11-14T11:19:30.570Z"
   },
   {
    "duration": 24,
    "start_time": "2022-11-14T11:19:30.842Z"
   },
   {
    "duration": 166,
    "start_time": "2022-11-14T11:19:44.249Z"
   },
   {
    "duration": 145,
    "start_time": "2022-11-14T11:20:29.281Z"
   },
   {
    "duration": 159,
    "start_time": "2022-11-14T11:21:12.782Z"
   },
   {
    "duration": 164,
    "start_time": "2022-11-14T11:22:18.797Z"
   },
   {
    "duration": 147,
    "start_time": "2022-11-14T11:22:25.562Z"
   },
   {
    "duration": 17489,
    "start_time": "2022-11-14T11:23:02.660Z"
   },
   {
    "duration": 331,
    "start_time": "2022-11-14T11:24:08.762Z"
   },
   {
    "duration": 171,
    "start_time": "2022-11-14T11:24:52.527Z"
   },
   {
    "duration": 149,
    "start_time": "2022-11-14T11:25:21.493Z"
   },
   {
    "duration": 14,
    "start_time": "2022-11-14T11:26:12.568Z"
   },
   {
    "duration": 13,
    "start_time": "2022-11-14T11:26:33.372Z"
   },
   {
    "duration": 24,
    "start_time": "2022-11-14T11:26:43.265Z"
   },
   {
    "duration": 329,
    "start_time": "2022-11-14T11:26:48.498Z"
   },
   {
    "duration": 13,
    "start_time": "2022-11-14T11:29:33.605Z"
   },
   {
    "duration": 294,
    "start_time": "2022-11-14T11:29:40.738Z"
   },
   {
    "duration": 317,
    "start_time": "2022-11-14T11:29:58.902Z"
   },
   {
    "duration": 15,
    "start_time": "2022-11-14T11:30:39.600Z"
   },
   {
    "duration": 316,
    "start_time": "2022-11-14T11:30:52.347Z"
   },
   {
    "duration": 31,
    "start_time": "2022-11-14T11:32:01.365Z"
   },
   {
    "duration": 337,
    "start_time": "2022-11-14T11:32:22.344Z"
   },
   {
    "duration": 249,
    "start_time": "2022-11-14T11:33:23.997Z"
   },
   {
    "duration": 293,
    "start_time": "2022-11-14T11:33:59.593Z"
   },
   {
    "duration": 219,
    "start_time": "2022-11-14T11:34:44.963Z"
   },
   {
    "duration": 361,
    "start_time": "2022-11-14T11:34:48.960Z"
   },
   {
    "duration": 73268,
    "start_time": "2022-11-14T11:35:57.113Z"
   },
   {
    "duration": 0,
    "start_time": "2022-11-14T11:37:10.383Z"
   },
   {
    "duration": 0,
    "start_time": "2022-11-14T11:37:10.384Z"
   },
   {
    "duration": 0,
    "start_time": "2022-11-14T11:37:10.386Z"
   },
   {
    "duration": 0,
    "start_time": "2022-11-14T11:37:10.387Z"
   },
   {
    "duration": 0,
    "start_time": "2022-11-14T11:37:10.388Z"
   },
   {
    "duration": 0,
    "start_time": "2022-11-14T11:37:10.389Z"
   },
   {
    "duration": 0,
    "start_time": "2022-11-14T11:37:10.390Z"
   },
   {
    "duration": 0,
    "start_time": "2022-11-14T11:37:10.391Z"
   },
   {
    "duration": 0,
    "start_time": "2022-11-14T11:37:10.392Z"
   },
   {
    "duration": 0,
    "start_time": "2022-11-14T11:37:10.393Z"
   },
   {
    "duration": 0,
    "start_time": "2022-11-14T11:37:10.394Z"
   },
   {
    "duration": 0,
    "start_time": "2022-11-14T11:37:10.396Z"
   },
   {
    "duration": 0,
    "start_time": "2022-11-14T11:37:10.397Z"
   },
   {
    "duration": 0,
    "start_time": "2022-11-14T11:37:10.398Z"
   },
   {
    "duration": 0,
    "start_time": "2022-11-14T11:37:10.400Z"
   },
   {
    "duration": 0,
    "start_time": "2022-11-14T11:37:10.401Z"
   },
   {
    "duration": 0,
    "start_time": "2022-11-14T11:37:10.402Z"
   },
   {
    "duration": 0,
    "start_time": "2022-11-14T11:37:10.403Z"
   },
   {
    "duration": 304,
    "start_time": "2022-11-14T11:37:20.297Z"
   },
   {
    "duration": 3,
    "start_time": "2022-11-14T11:38:03.212Z"
   },
   {
    "duration": 36,
    "start_time": "2022-11-14T11:38:03.362Z"
   },
   {
    "duration": 13,
    "start_time": "2022-11-14T11:38:03.515Z"
   },
   {
    "duration": 13,
    "start_time": "2022-11-14T11:38:03.809Z"
   },
   {
    "duration": 39,
    "start_time": "2022-11-14T11:38:03.961Z"
   },
   {
    "duration": 17,
    "start_time": "2022-11-14T11:38:04.097Z"
   },
   {
    "duration": 9,
    "start_time": "2022-11-14T11:38:04.245Z"
   },
   {
    "duration": 12,
    "start_time": "2022-11-14T11:38:04.391Z"
   },
   {
    "duration": 6,
    "start_time": "2022-11-14T11:38:04.831Z"
   },
   {
    "duration": 21,
    "start_time": "2022-11-14T11:38:04.980Z"
   },
   {
    "duration": 4,
    "start_time": "2022-11-14T11:38:05.460Z"
   },
   {
    "duration": 8,
    "start_time": "2022-11-14T11:38:05.593Z"
   },
   {
    "duration": 14,
    "start_time": "2022-11-14T11:38:05.732Z"
   },
   {
    "duration": 172,
    "start_time": "2022-11-14T11:38:06.014Z"
   },
   {
    "duration": 165,
    "start_time": "2022-11-14T11:38:06.189Z"
   },
   {
    "duration": 203,
    "start_time": "2022-11-14T11:38:06.433Z"
   },
   {
    "duration": 350,
    "start_time": "2022-11-14T11:38:06.639Z"
   },
   {
    "duration": 193,
    "start_time": "2022-11-14T11:38:45.531Z"
   },
   {
    "duration": 111,
    "start_time": "2022-11-14T11:39:22.826Z"
   },
   {
    "duration": 206,
    "start_time": "2022-11-14T11:39:39.462Z"
   },
   {
    "duration": 148,
    "start_time": "2022-11-14T11:39:51.535Z"
   },
   {
    "duration": 242,
    "start_time": "2022-11-14T11:39:51.685Z"
   },
   {
    "duration": 341,
    "start_time": "2022-11-14T11:39:52.300Z"
   },
   {
    "duration": 198,
    "start_time": "2022-11-14T11:40:00.407Z"
   },
   {
    "duration": 199,
    "start_time": "2022-11-14T11:40:11.848Z"
   },
   {
    "duration": 331,
    "start_time": "2022-11-14T11:40:19.145Z"
   },
   {
    "duration": 245,
    "start_time": "2022-11-14T11:40:29.479Z"
   },
   {
    "duration": 196,
    "start_time": "2022-11-14T11:40:32.933Z"
   },
   {
    "duration": 208,
    "start_time": "2022-11-14T11:40:42.673Z"
   },
   {
    "duration": 202,
    "start_time": "2022-11-14T11:40:52.534Z"
   },
   {
    "duration": 330,
    "start_time": "2022-11-14T11:41:06.268Z"
   },
   {
    "duration": 158,
    "start_time": "2022-11-14T11:41:15.314Z"
   },
   {
    "duration": 184,
    "start_time": "2022-11-14T11:41:24.584Z"
   },
   {
    "duration": 160,
    "start_time": "2022-11-14T11:42:00.529Z"
   },
   {
    "duration": 151,
    "start_time": "2022-11-14T11:42:41.813Z"
   },
   {
    "duration": 217,
    "start_time": "2022-11-14T11:43:51.236Z"
   },
   {
    "duration": 151,
    "start_time": "2022-11-14T11:44:13.486Z"
   },
   {
    "duration": 219,
    "start_time": "2022-11-14T11:44:35.683Z"
   },
   {
    "duration": 225,
    "start_time": "2022-11-14T11:44:41.012Z"
   },
   {
    "duration": 391,
    "start_time": "2022-11-14T11:44:55.903Z"
   },
   {
    "duration": 250,
    "start_time": "2022-11-14T11:45:48.646Z"
   },
   {
    "duration": 203,
    "start_time": "2022-11-14T11:46:20.461Z"
   },
   {
    "duration": 174,
    "start_time": "2022-11-14T11:46:35.888Z"
   },
   {
    "duration": 166,
    "start_time": "2022-11-14T11:46:57.812Z"
   },
   {
    "duration": 59,
    "start_time": "2022-11-15T09:00:46.298Z"
   },
   {
    "duration": 1476,
    "start_time": "2022-11-15T09:01:02.821Z"
   },
   {
    "duration": 152,
    "start_time": "2022-11-15T09:01:04.299Z"
   },
   {
    "duration": 15,
    "start_time": "2022-11-15T09:01:04.453Z"
   },
   {
    "duration": 12,
    "start_time": "2022-11-15T09:01:04.470Z"
   },
   {
    "duration": 35,
    "start_time": "2022-11-15T09:01:04.484Z"
   },
   {
    "duration": 15,
    "start_time": "2022-11-15T09:01:04.521Z"
   },
   {
    "duration": 7,
    "start_time": "2022-11-15T09:01:04.538Z"
   },
   {
    "duration": 23,
    "start_time": "2022-11-15T09:01:04.547Z"
   },
   {
    "duration": 7,
    "start_time": "2022-11-15T09:01:04.571Z"
   },
   {
    "duration": 31,
    "start_time": "2022-11-15T09:01:04.580Z"
   },
   {
    "duration": 4,
    "start_time": "2022-11-15T09:01:04.974Z"
   },
   {
    "duration": 8,
    "start_time": "2022-11-15T09:01:05.129Z"
   },
   {
    "duration": 12,
    "start_time": "2022-11-15T09:01:05.255Z"
   },
   {
    "duration": 173,
    "start_time": "2022-11-15T09:01:05.536Z"
   },
   {
    "duration": 137,
    "start_time": "2022-11-15T09:01:05.814Z"
   },
   {
    "duration": 222,
    "start_time": "2022-11-15T09:01:06.101Z"
   },
   {
    "duration": 7,
    "start_time": "2022-11-15T09:01:06.325Z"
   },
   {
    "duration": 301,
    "start_time": "2022-11-15T09:01:06.403Z"
   },
   {
    "duration": 180,
    "start_time": "2022-11-15T09:01:06.706Z"
   },
   {
    "duration": 133,
    "start_time": "2022-11-15T09:01:06.887Z"
   },
   {
    "duration": 197,
    "start_time": "2022-11-15T09:01:07.023Z"
   },
   {
    "duration": 182,
    "start_time": "2022-11-15T09:01:57.316Z"
   },
   {
    "duration": 191,
    "start_time": "2022-11-15T09:02:32.182Z"
   },
   {
    "duration": 5,
    "start_time": "2022-11-15T09:03:59.942Z"
   },
   {
    "duration": 4,
    "start_time": "2022-11-15T09:04:10.445Z"
   },
   {
    "duration": 77,
    "start_time": "2022-11-15T09:06:14.729Z"
   },
   {
    "duration": 15,
    "start_time": "2022-11-15T09:06:25.608Z"
   },
   {
    "duration": 5,
    "start_time": "2022-11-15T09:07:11.052Z"
   },
   {
    "duration": 5,
    "start_time": "2022-11-15T09:07:11.983Z"
   },
   {
    "duration": 7,
    "start_time": "2022-11-15T09:07:34.945Z"
   },
   {
    "duration": 5,
    "start_time": "2022-11-15T09:07:44.757Z"
   },
   {
    "duration": 5,
    "start_time": "2022-11-15T09:07:51.116Z"
   },
   {
    "duration": 186,
    "start_time": "2022-11-15T09:12:26.541Z"
   },
   {
    "duration": 180,
    "start_time": "2022-11-15T09:12:44.059Z"
   },
   {
    "duration": 185,
    "start_time": "2022-11-15T09:13:31.723Z"
   },
   {
    "duration": 139,
    "start_time": "2022-11-15T09:15:42.077Z"
   },
   {
    "duration": 11,
    "start_time": "2022-11-15T09:18:28.047Z"
   },
   {
    "duration": 188,
    "start_time": "2022-11-15T09:18:51.918Z"
   },
   {
    "duration": 5,
    "start_time": "2022-11-15T09:19:32.563Z"
   },
   {
    "duration": 6,
    "start_time": "2022-11-15T09:19:33.079Z"
   },
   {
    "duration": 8,
    "start_time": "2022-11-15T09:19:35.186Z"
   },
   {
    "duration": 13,
    "start_time": "2022-11-15T09:33:30.688Z"
   },
   {
    "duration": 5,
    "start_time": "2022-11-15T09:33:34.542Z"
   },
   {
    "duration": 5,
    "start_time": "2022-11-15T09:33:57.895Z"
   },
   {
    "duration": 4,
    "start_time": "2022-11-15T09:33:59.979Z"
   },
   {
    "duration": 9,
    "start_time": "2022-11-15T09:35:12.755Z"
   },
   {
    "duration": 9,
    "start_time": "2022-11-15T09:35:19.640Z"
   },
   {
    "duration": 11,
    "start_time": "2022-11-15T09:35:28.907Z"
   },
   {
    "duration": 17,
    "start_time": "2022-11-15T09:41:45.534Z"
   },
   {
    "duration": 24,
    "start_time": "2022-11-15T09:41:55.888Z"
   },
   {
    "duration": 3,
    "start_time": "2022-11-15T09:43:00.741Z"
   },
   {
    "duration": 5,
    "start_time": "2022-11-15T09:44:09.938Z"
   },
   {
    "duration": 10,
    "start_time": "2022-11-15T09:46:18.779Z"
   },
   {
    "duration": 13,
    "start_time": "2022-11-15T09:46:49.253Z"
   },
   {
    "duration": 14,
    "start_time": "2022-11-15T09:48:25.166Z"
   },
   {
    "duration": 3,
    "start_time": "2022-11-15T09:54:55.702Z"
   },
   {
    "duration": 6,
    "start_time": "2022-11-15T09:55:29.857Z"
   },
   {
    "duration": 5,
    "start_time": "2022-11-15T10:00:12.594Z"
   },
   {
    "duration": 47,
    "start_time": "2022-11-15T12:56:02.937Z"
   },
   {
    "duration": 1403,
    "start_time": "2022-11-15T12:56:12.587Z"
   },
   {
    "duration": 191,
    "start_time": "2022-11-15T12:56:13.992Z"
   },
   {
    "duration": 16,
    "start_time": "2022-11-15T12:56:14.184Z"
   },
   {
    "duration": 14,
    "start_time": "2022-11-15T12:56:14.202Z"
   },
   {
    "duration": 41,
    "start_time": "2022-11-15T12:56:14.218Z"
   },
   {
    "duration": 15,
    "start_time": "2022-11-15T12:56:14.261Z"
   },
   {
    "duration": 7,
    "start_time": "2022-11-15T12:56:14.277Z"
   },
   {
    "duration": 10,
    "start_time": "2022-11-15T12:56:14.285Z"
   },
   {
    "duration": 6,
    "start_time": "2022-11-15T12:56:14.834Z"
   },
   {
    "duration": 21,
    "start_time": "2022-11-15T12:56:14.842Z"
   },
   {
    "duration": 4,
    "start_time": "2022-11-15T12:56:15.289Z"
   },
   {
    "duration": 11,
    "start_time": "2022-11-15T12:56:15.472Z"
   },
   {
    "duration": 13,
    "start_time": "2022-11-15T12:56:15.658Z"
   },
   {
    "duration": 178,
    "start_time": "2022-11-15T12:56:16.039Z"
   },
   {
    "duration": 163,
    "start_time": "2022-11-15T12:56:16.434Z"
   },
   {
    "duration": 179,
    "start_time": "2022-11-15T12:56:16.807Z"
   },
   {
    "duration": 4,
    "start_time": "2022-11-15T12:56:16.995Z"
   },
   {
    "duration": 4,
    "start_time": "2022-11-15T12:56:17.194Z"
   },
   {
    "duration": 6,
    "start_time": "2022-11-15T12:56:17.390Z"
   },
   {
    "duration": 363,
    "start_time": "2022-11-15T12:56:17.785Z"
   },
   {
    "duration": 197,
    "start_time": "2022-11-15T12:56:18.186Z"
   },
   {
    "duration": 147,
    "start_time": "2022-11-15T12:56:18.586Z"
   },
   {
    "duration": 234,
    "start_time": "2022-11-15T12:56:18.792Z"
   },
   {
    "duration": 4,
    "start_time": "2022-11-15T12:56:20.754Z"
   },
   {
    "duration": 19,
    "start_time": "2022-11-15T12:56:21.037Z"
   },
   {
    "duration": 6,
    "start_time": "2022-11-15T12:56:21.370Z"
   },
   {
    "duration": 14,
    "start_time": "2022-11-15T12:56:21.691Z"
   },
   {
    "duration": 24,
    "start_time": "2022-11-15T12:56:52.915Z"
   },
   {
    "duration": 72,
    "start_time": "2022-11-15T12:57:13.948Z"
   },
   {
    "duration": 13,
    "start_time": "2022-11-15T12:57:34.243Z"
   },
   {
    "duration": 16,
    "start_time": "2022-11-15T12:57:38.921Z"
   },
   {
    "duration": 3,
    "start_time": "2022-11-15T12:57:49.462Z"
   },
   {
    "duration": 39,
    "start_time": "2022-11-15T12:57:49.637Z"
   },
   {
    "duration": 23,
    "start_time": "2022-11-15T12:57:49.814Z"
   },
   {
    "duration": 12,
    "start_time": "2022-11-15T12:57:50.170Z"
   },
   {
    "duration": 35,
    "start_time": "2022-11-15T12:57:50.354Z"
   },
   {
    "duration": 16,
    "start_time": "2022-11-15T12:57:50.536Z"
   },
   {
    "duration": 9,
    "start_time": "2022-11-15T12:57:50.715Z"
   },
   {
    "duration": 13,
    "start_time": "2022-11-15T12:57:50.893Z"
   },
   {
    "duration": 5,
    "start_time": "2022-11-15T12:57:51.433Z"
   },
   {
    "duration": 27,
    "start_time": "2022-11-15T12:57:51.615Z"
   },
   {
    "duration": 3,
    "start_time": "2022-11-15T12:57:52.177Z"
   },
   {
    "duration": 7,
    "start_time": "2022-11-15T12:57:52.355Z"
   },
   {
    "duration": 11,
    "start_time": "2022-11-15T12:57:52.535Z"
   },
   {
    "duration": 154,
    "start_time": "2022-11-15T12:57:52.895Z"
   },
   {
    "duration": 124,
    "start_time": "2022-11-15T12:57:53.252Z"
   },
   {
    "duration": 162,
    "start_time": "2022-11-15T12:57:53.593Z"
   },
   {
    "duration": 4,
    "start_time": "2022-11-15T12:57:53.772Z"
   },
   {
    "duration": 3,
    "start_time": "2022-11-15T12:57:53.952Z"
   },
   {
    "duration": 10,
    "start_time": "2022-11-15T12:57:54.120Z"
   },
   {
    "duration": 303,
    "start_time": "2022-11-15T12:57:54.492Z"
   },
   {
    "duration": 178,
    "start_time": "2022-11-15T12:57:54.847Z"
   },
   {
    "duration": 138,
    "start_time": "2022-11-15T12:57:55.200Z"
   },
   {
    "duration": 159,
    "start_time": "2022-11-15T12:57:55.384Z"
   },
   {
    "duration": 4,
    "start_time": "2022-11-15T12:57:56.304Z"
   },
   {
    "duration": 19,
    "start_time": "2022-11-15T12:57:59.498Z"
   },
   {
    "duration": 5,
    "start_time": "2022-11-15T12:57:59.958Z"
   },
   {
    "duration": 12,
    "start_time": "2022-11-15T12:58:00.390Z"
   },
   {
    "duration": 12,
    "start_time": "2022-11-15T12:58:09.794Z"
   },
   {
    "duration": 2,
    "start_time": "2022-11-15T12:58:17.258Z"
   },
   {
    "duration": 41,
    "start_time": "2022-11-15T12:58:17.433Z"
   },
   {
    "duration": 12,
    "start_time": "2022-11-15T12:58:17.595Z"
   },
   {
    "duration": 12,
    "start_time": "2022-11-15T12:58:17.940Z"
   },
   {
    "duration": 38,
    "start_time": "2022-11-15T12:58:18.118Z"
   },
   {
    "duration": 16,
    "start_time": "2022-11-15T12:58:18.280Z"
   },
   {
    "duration": 7,
    "start_time": "2022-11-15T12:58:18.437Z"
   },
   {
    "duration": 11,
    "start_time": "2022-11-15T12:58:18.599Z"
   },
   {
    "duration": 6,
    "start_time": "2022-11-15T12:58:19.101Z"
   },
   {
    "duration": 19,
    "start_time": "2022-11-15T12:58:19.269Z"
   },
   {
    "duration": 4,
    "start_time": "2022-11-15T12:58:19.783Z"
   },
   {
    "duration": 7,
    "start_time": "2022-11-15T12:58:19.956Z"
   },
   {
    "duration": 16,
    "start_time": "2022-11-15T12:58:20.119Z"
   },
   {
    "duration": 159,
    "start_time": "2022-11-15T12:58:20.465Z"
   },
   {
    "duration": 143,
    "start_time": "2022-11-15T12:58:20.839Z"
   },
   {
    "duration": 162,
    "start_time": "2022-11-15T12:58:21.180Z"
   },
   {
    "duration": 4,
    "start_time": "2022-11-15T12:58:21.363Z"
   },
   {
    "duration": 4,
    "start_time": "2022-11-15T12:58:21.541Z"
   },
   {
    "duration": 5,
    "start_time": "2022-11-15T12:58:21.737Z"
   },
   {
    "duration": 285,
    "start_time": "2022-11-15T12:58:22.082Z"
   },
   {
    "duration": 255,
    "start_time": "2022-11-15T12:58:22.436Z"
   },
   {
    "duration": 144,
    "start_time": "2022-11-15T12:58:22.795Z"
   },
   {
    "duration": 124,
    "start_time": "2022-11-15T12:58:22.957Z"
   },
   {
    "duration": 11,
    "start_time": "2022-11-15T12:58:23.864Z"
   },
   {
    "duration": 17,
    "start_time": "2022-11-15T12:58:24.532Z"
   },
   {
    "duration": 6,
    "start_time": "2022-11-15T12:58:25.080Z"
   },
   {
    "duration": 13,
    "start_time": "2022-11-15T12:58:25.673Z"
   },
   {
    "duration": 1423,
    "start_time": "2022-11-15T13:13:12.873Z"
   },
   {
    "duration": 172,
    "start_time": "2022-11-15T13:13:14.299Z"
   },
   {
    "duration": 15,
    "start_time": "2022-11-15T13:13:14.472Z"
   },
   {
    "duration": 12,
    "start_time": "2022-11-15T13:13:14.489Z"
   },
   {
    "duration": 40,
    "start_time": "2022-11-15T13:13:14.503Z"
   },
   {
    "duration": 14,
    "start_time": "2022-11-15T13:13:14.544Z"
   },
   {
    "duration": 7,
    "start_time": "2022-11-15T13:13:14.559Z"
   },
   {
    "duration": 15,
    "start_time": "2022-11-15T13:13:14.568Z"
   },
   {
    "duration": 5,
    "start_time": "2022-11-15T13:13:14.746Z"
   },
   {
    "duration": 20,
    "start_time": "2022-11-15T13:13:14.931Z"
   },
   {
    "duration": 3,
    "start_time": "2022-11-15T13:13:15.473Z"
   },
   {
    "duration": 7,
    "start_time": "2022-11-15T13:13:15.662Z"
   },
   {
    "duration": 12,
    "start_time": "2022-11-15T13:13:15.833Z"
   },
   {
    "duration": 166,
    "start_time": "2022-11-15T13:13:16.200Z"
   },
   {
    "duration": 129,
    "start_time": "2022-11-15T13:13:16.573Z"
   },
   {
    "duration": 164,
    "start_time": "2022-11-15T13:13:16.918Z"
   },
   {
    "duration": 4,
    "start_time": "2022-11-15T13:13:17.086Z"
   },
   {
    "duration": 5,
    "start_time": "2022-11-15T13:13:17.281Z"
   },
   {
    "duration": 5,
    "start_time": "2022-11-15T13:13:17.455Z"
   },
   {
    "duration": 291,
    "start_time": "2022-11-15T13:13:17.819Z"
   },
   {
    "duration": 188,
    "start_time": "2022-11-15T13:13:18.170Z"
   },
   {
    "duration": 206,
    "start_time": "2022-11-15T13:13:18.484Z"
   },
   {
    "duration": 132,
    "start_time": "2022-11-15T13:13:18.708Z"
   },
   {
    "duration": 12,
    "start_time": "2022-11-15T13:13:19.636Z"
   },
   {
    "duration": 23,
    "start_time": "2022-11-15T13:13:20.013Z"
   },
   {
    "duration": 6,
    "start_time": "2022-11-15T13:13:20.192Z"
   },
   {
    "duration": 17,
    "start_time": "2022-11-15T13:13:20.388Z"
   },
   {
    "duration": 6,
    "start_time": "2022-11-15T13:13:21.489Z"
   },
   {
    "duration": 16,
    "start_time": "2022-11-15T13:22:52.001Z"
   },
   {
    "duration": 3,
    "start_time": "2022-11-15T14:05:54.760Z"
   },
   {
    "duration": 42,
    "start_time": "2022-11-15T14:05:55.558Z"
   },
   {
    "duration": 16,
    "start_time": "2022-11-15T14:05:55.741Z"
   },
   {
    "duration": 12,
    "start_time": "2022-11-15T14:05:56.029Z"
   },
   {
    "duration": 33,
    "start_time": "2022-11-15T14:05:56.176Z"
   },
   {
    "duration": 17,
    "start_time": "2022-11-15T14:05:56.325Z"
   },
   {
    "duration": 8,
    "start_time": "2022-11-15T14:05:56.470Z"
   },
   {
    "duration": 9,
    "start_time": "2022-11-15T14:05:56.608Z"
   },
   {
    "duration": 5,
    "start_time": "2022-11-15T14:05:56.989Z"
   },
   {
    "duration": 23,
    "start_time": "2022-11-15T14:05:57.117Z"
   },
   {
    "duration": 3,
    "start_time": "2022-11-15T14:05:57.605Z"
   },
   {
    "duration": 7,
    "start_time": "2022-11-15T14:05:57.750Z"
   },
   {
    "duration": 13,
    "start_time": "2022-11-15T14:05:57.889Z"
   },
   {
    "duration": 150,
    "start_time": "2022-11-15T14:05:58.332Z"
   },
   {
    "duration": 136,
    "start_time": "2022-11-15T14:05:58.633Z"
   },
   {
    "duration": 160,
    "start_time": "2022-11-15T14:05:58.950Z"
   },
   {
    "duration": 4,
    "start_time": "2022-11-15T14:05:59.112Z"
   },
   {
    "duration": 4,
    "start_time": "2022-11-15T14:05:59.277Z"
   },
   {
    "duration": 15,
    "start_time": "2022-11-15T14:05:59.417Z"
   },
   {
    "duration": 310,
    "start_time": "2022-11-15T14:05:59.739Z"
   },
   {
    "duration": 205,
    "start_time": "2022-11-15T14:06:00.052Z"
   },
   {
    "duration": 136,
    "start_time": "2022-11-15T14:06:00.379Z"
   },
   {
    "duration": 136,
    "start_time": "2022-11-15T14:06:00.532Z"
   },
   {
    "duration": 23,
    "start_time": "2022-11-15T14:06:01.410Z"
   },
   {
    "duration": 16,
    "start_time": "2022-11-15T14:06:01.959Z"
   },
   {
    "duration": 6,
    "start_time": "2022-11-15T14:06:02.600Z"
   },
   {
    "duration": 12,
    "start_time": "2022-11-15T14:06:03.196Z"
   },
   {
    "duration": 2,
    "start_time": "2022-11-15T14:06:04.582Z"
   },
   {
    "duration": 154,
    "start_time": "2022-11-15T14:14:09.957Z"
   },
   {
    "duration": 154,
    "start_time": "2022-11-15T14:15:13.648Z"
   },
   {
    "duration": 106,
    "start_time": "2022-11-15T14:21:33.132Z"
   },
   {
    "duration": 28,
    "start_time": "2022-11-15T14:25:24.832Z"
   },
   {
    "duration": 27,
    "start_time": "2022-11-15T14:25:45.542Z"
   },
   {
    "duration": 23,
    "start_time": "2022-11-15T14:25:51.683Z"
   },
   {
    "duration": 3,
    "start_time": "2022-11-15T14:26:47.781Z"
   },
   {
    "duration": 38,
    "start_time": "2022-11-15T14:26:48.161Z"
   },
   {
    "duration": 12,
    "start_time": "2022-11-15T14:26:48.381Z"
   },
   {
    "duration": 12,
    "start_time": "2022-11-15T14:26:48.691Z"
   },
   {
    "duration": 33,
    "start_time": "2022-11-15T14:26:48.851Z"
   },
   {
    "duration": 31,
    "start_time": "2022-11-15T14:26:49.002Z"
   },
   {
    "duration": 8,
    "start_time": "2022-11-15T14:26:49.165Z"
   },
   {
    "duration": 18,
    "start_time": "2022-11-15T14:26:49.316Z"
   },
   {
    "duration": 6,
    "start_time": "2022-11-15T14:26:49.809Z"
   },
   {
    "duration": 19,
    "start_time": "2022-11-15T14:26:49.959Z"
   },
   {
    "duration": 3,
    "start_time": "2022-11-15T14:26:50.454Z"
   },
   {
    "duration": 9,
    "start_time": "2022-11-15T14:26:50.604Z"
   },
   {
    "duration": 12,
    "start_time": "2022-11-15T14:26:50.762Z"
   },
   {
    "duration": 151,
    "start_time": "2022-11-15T14:26:51.087Z"
   },
   {
    "duration": 238,
    "start_time": "2022-11-15T14:26:51.397Z"
   },
   {
    "duration": 156,
    "start_time": "2022-11-15T14:26:51.732Z"
   },
   {
    "duration": 4,
    "start_time": "2022-11-15T14:26:51.890Z"
   },
   {
    "duration": 4,
    "start_time": "2022-11-15T14:26:52.053Z"
   },
   {
    "duration": 5,
    "start_time": "2022-11-15T14:26:52.206Z"
   },
   {
    "duration": 302,
    "start_time": "2022-11-15T14:26:52.535Z"
   },
   {
    "duration": 181,
    "start_time": "2022-11-15T14:26:52.866Z"
   },
   {
    "duration": 134,
    "start_time": "2022-11-15T14:26:53.204Z"
   },
   {
    "duration": 132,
    "start_time": "2022-11-15T14:26:53.342Z"
   },
   {
    "duration": 145,
    "start_time": "2022-11-15T14:26:53.747Z"
   },
   {
    "duration": 11,
    "start_time": "2022-11-15T14:26:54.284Z"
   },
   {
    "duration": 22,
    "start_time": "2022-11-15T14:26:54.614Z"
   },
   {
    "duration": 5,
    "start_time": "2022-11-15T14:26:54.864Z"
   },
   {
    "duration": 12,
    "start_time": "2022-11-15T14:26:55.064Z"
   },
   {
    "duration": 32,
    "start_time": "2022-11-15T14:26:55.457Z"
   },
   {
    "duration": 5,
    "start_time": "2022-11-15T14:26:56.453Z"
   },
   {
    "duration": 32,
    "start_time": "2022-11-15T14:27:33.621Z"
   },
   {
    "duration": 11,
    "start_time": "2022-11-15T14:28:34.532Z"
   },
   {
    "duration": 9,
    "start_time": "2022-11-15T14:30:25.790Z"
   },
   {
    "duration": 10,
    "start_time": "2022-11-15T14:30:34.767Z"
   },
   {
    "duration": 29,
    "start_time": "2022-11-15T14:30:44.314Z"
   },
   {
    "duration": 12,
    "start_time": "2022-11-15T14:30:44.564Z"
   },
   {
    "duration": 48,
    "start_time": "2022-11-16T08:35:30.070Z"
   },
   {
    "duration": 1738,
    "start_time": "2022-11-16T08:35:46.021Z"
   },
   {
    "duration": 78,
    "start_time": "2022-11-16T08:35:47.762Z"
   },
   {
    "duration": 17,
    "start_time": "2022-11-16T08:35:47.842Z"
   },
   {
    "duration": 12,
    "start_time": "2022-11-16T08:35:47.861Z"
   },
   {
    "duration": 38,
    "start_time": "2022-11-16T08:35:47.875Z"
   },
   {
    "duration": 17,
    "start_time": "2022-11-16T08:35:47.915Z"
   },
   {
    "duration": 7,
    "start_time": "2022-11-16T08:35:47.934Z"
   },
   {
    "duration": 36,
    "start_time": "2022-11-16T08:35:47.943Z"
   },
   {
    "duration": 6,
    "start_time": "2022-11-16T08:35:47.981Z"
   },
   {
    "duration": 22,
    "start_time": "2022-11-16T08:35:47.989Z"
   },
   {
    "duration": 4,
    "start_time": "2022-11-16T08:35:48.209Z"
   },
   {
    "duration": 7,
    "start_time": "2022-11-16T08:35:48.353Z"
   },
   {
    "duration": 13,
    "start_time": "2022-11-16T08:35:48.504Z"
   },
   {
    "duration": 185,
    "start_time": "2022-11-16T08:35:48.795Z"
   },
   {
    "duration": 159,
    "start_time": "2022-11-16T08:35:49.098Z"
   },
   {
    "duration": 202,
    "start_time": "2022-11-16T08:35:49.399Z"
   },
   {
    "duration": 5,
    "start_time": "2022-11-16T08:35:49.603Z"
   },
   {
    "duration": 5,
    "start_time": "2022-11-16T08:35:49.700Z"
   },
   {
    "duration": 6,
    "start_time": "2022-11-16T08:35:49.812Z"
   },
   {
    "duration": 321,
    "start_time": "2022-11-16T08:35:50.165Z"
   },
   {
    "duration": 207,
    "start_time": "2022-11-16T08:35:50.489Z"
   },
   {
    "duration": 224,
    "start_time": "2022-11-16T08:35:50.770Z"
   },
   {
    "duration": 153,
    "start_time": "2022-11-16T08:35:50.996Z"
   },
   {
    "duration": 162,
    "start_time": "2022-11-16T08:35:51.219Z"
   },
   {
    "duration": 12,
    "start_time": "2022-11-16T08:35:51.688Z"
   },
   {
    "duration": 19,
    "start_time": "2022-11-16T08:35:51.995Z"
   },
   {
    "duration": 6,
    "start_time": "2022-11-16T08:35:52.311Z"
   },
   {
    "duration": 14,
    "start_time": "2022-11-16T08:35:52.468Z"
   },
   {
    "duration": 31,
    "start_time": "2022-11-16T08:35:52.987Z"
   },
   {
    "duration": 11,
    "start_time": "2022-11-16T08:35:53.145Z"
   },
   {
    "duration": 5,
    "start_time": "2022-11-16T08:35:53.767Z"
   },
   {
    "duration": 92,
    "start_time": "2022-11-16T09:30:49.258Z"
   },
   {
    "duration": 92,
    "start_time": "2022-11-16T09:31:14.005Z"
   },
   {
    "duration": 11,
    "start_time": "2022-11-16T09:31:56.919Z"
   },
   {
    "duration": 41,
    "start_time": "2022-11-16T09:32:05.725Z"
   },
   {
    "duration": 37,
    "start_time": "2022-11-16T09:32:05.872Z"
   },
   {
    "duration": 13,
    "start_time": "2022-11-16T09:32:06.018Z"
   },
   {
    "duration": 12,
    "start_time": "2022-11-16T09:32:06.309Z"
   },
   {
    "duration": 37,
    "start_time": "2022-11-16T09:32:06.450Z"
   },
   {
    "duration": 16,
    "start_time": "2022-11-16T09:32:06.600Z"
   },
   {
    "duration": 8,
    "start_time": "2022-11-16T09:32:06.733Z"
   },
   {
    "duration": 13,
    "start_time": "2022-11-16T09:32:06.883Z"
   },
   {
    "duration": 6,
    "start_time": "2022-11-16T09:32:07.332Z"
   },
   {
    "duration": 20,
    "start_time": "2022-11-16T09:32:07.475Z"
   },
   {
    "duration": 4,
    "start_time": "2022-11-16T09:32:07.929Z"
   },
   {
    "duration": 8,
    "start_time": "2022-11-16T09:32:08.072Z"
   },
   {
    "duration": 13,
    "start_time": "2022-11-16T09:32:08.219Z"
   },
   {
    "duration": 164,
    "start_time": "2022-11-16T09:32:08.522Z"
   },
   {
    "duration": 136,
    "start_time": "2022-11-16T09:32:08.838Z"
   },
   {
    "duration": 167,
    "start_time": "2022-11-16T09:32:09.142Z"
   },
   {
    "duration": 4,
    "start_time": "2022-11-16T09:32:09.314Z"
   },
   {
    "duration": 4,
    "start_time": "2022-11-16T09:32:09.477Z"
   },
   {
    "duration": 6,
    "start_time": "2022-11-16T09:32:09.635Z"
   },
   {
    "duration": 302,
    "start_time": "2022-11-16T09:32:09.941Z"
   },
   {
    "duration": 190,
    "start_time": "2022-11-16T09:32:10.258Z"
   },
   {
    "duration": 149,
    "start_time": "2022-11-16T09:32:10.530Z"
   },
   {
    "duration": 144,
    "start_time": "2022-11-16T09:32:10.683Z"
   },
   {
    "duration": 233,
    "start_time": "2022-11-16T09:32:11.077Z"
   },
   {
    "duration": 13,
    "start_time": "2022-11-16T09:32:11.579Z"
   },
   {
    "duration": 17,
    "start_time": "2022-11-16T09:32:11.918Z"
   },
   {
    "duration": 5,
    "start_time": "2022-11-16T09:32:12.068Z"
   },
   {
    "duration": 14,
    "start_time": "2022-11-16T09:32:12.246Z"
   },
   {
    "duration": 30,
    "start_time": "2022-11-16T09:32:12.568Z"
   },
   {
    "duration": 14,
    "start_time": "2022-11-16T09:32:12.868Z"
   },
   {
    "duration": 7,
    "start_time": "2022-11-16T09:32:13.574Z"
   },
   {
    "duration": 23,
    "start_time": "2022-11-16T09:32:14.247Z"
   },
   {
    "duration": 19,
    "start_time": "2022-11-16T09:36:38.266Z"
   },
   {
    "duration": 5,
    "start_time": "2022-11-16T09:38:49.328Z"
   },
   {
    "duration": 34,
    "start_time": "2022-11-16T09:38:49.735Z"
   },
   {
    "duration": 13,
    "start_time": "2022-11-16T09:38:49.875Z"
   },
   {
    "duration": 13,
    "start_time": "2022-11-16T09:38:50.311Z"
   },
   {
    "duration": 50,
    "start_time": "2022-11-16T09:38:50.610Z"
   },
   {
    "duration": 22,
    "start_time": "2022-11-16T09:38:50.743Z"
   },
   {
    "duration": 9,
    "start_time": "2022-11-16T09:38:50.877Z"
   },
   {
    "duration": 12,
    "start_time": "2022-11-16T09:38:51.165Z"
   },
   {
    "duration": 7,
    "start_time": "2022-11-16T09:38:51.616Z"
   },
   {
    "duration": 27,
    "start_time": "2022-11-16T09:38:51.756Z"
   },
   {
    "duration": 4,
    "start_time": "2022-11-16T09:38:52.185Z"
   },
   {
    "duration": 10,
    "start_time": "2022-11-16T09:38:52.382Z"
   },
   {
    "duration": 18,
    "start_time": "2022-11-16T09:38:52.532Z"
   },
   {
    "duration": 190,
    "start_time": "2022-11-16T09:38:52.820Z"
   },
   {
    "duration": 140,
    "start_time": "2022-11-16T09:38:53.140Z"
   },
   {
    "duration": 190,
    "start_time": "2022-11-16T09:38:53.467Z"
   },
   {
    "duration": 5,
    "start_time": "2022-11-16T09:38:53.660Z"
   },
   {
    "duration": 5,
    "start_time": "2022-11-16T09:38:53.771Z"
   },
   {
    "duration": 6,
    "start_time": "2022-11-16T09:38:53.924Z"
   },
   {
    "duration": 314,
    "start_time": "2022-11-16T09:38:54.224Z"
   },
   {
    "duration": 212,
    "start_time": "2022-11-16T09:38:54.540Z"
   },
   {
    "duration": 144,
    "start_time": "2022-11-16T09:38:54.843Z"
   },
   {
    "duration": 186,
    "start_time": "2022-11-16T09:38:54.993Z"
   },
   {
    "duration": 186,
    "start_time": "2022-11-16T09:38:55.317Z"
   },
   {
    "duration": 12,
    "start_time": "2022-11-16T09:38:55.767Z"
   },
   {
    "duration": 26,
    "start_time": "2022-11-16T09:38:56.066Z"
   },
   {
    "duration": 7,
    "start_time": "2022-11-16T09:38:56.213Z"
   },
   {
    "duration": 19,
    "start_time": "2022-11-16T09:38:56.677Z"
   },
   {
    "duration": 41,
    "start_time": "2022-11-16T09:38:57.297Z"
   },
   {
    "duration": 13,
    "start_time": "2022-11-16T09:38:57.451Z"
   },
   {
    "duration": 6,
    "start_time": "2022-11-16T09:38:58.207Z"
   },
   {
    "duration": 24,
    "start_time": "2022-11-16T09:38:59.037Z"
   },
   {
    "duration": 19,
    "start_time": "2022-11-16T09:40:45.183Z"
   },
   {
    "duration": 29,
    "start_time": "2022-11-16T09:41:02.598Z"
   },
   {
    "duration": 21,
    "start_time": "2022-11-16T09:41:22.669Z"
   },
   {
    "duration": 23,
    "start_time": "2022-11-16T09:42:01.895Z"
   },
   {
    "duration": 21,
    "start_time": "2022-11-16T09:42:15.314Z"
   },
   {
    "duration": 11,
    "start_time": "2022-11-16T09:42:32.270Z"
   },
   {
    "duration": 163,
    "start_time": "2022-11-16T09:42:46.505Z"
   },
   {
    "duration": 171,
    "start_time": "2022-11-16T09:43:11.254Z"
   },
   {
    "duration": 11,
    "start_time": "2022-11-16T10:01:26.093Z"
   },
   {
    "duration": 16,
    "start_time": "2022-11-16T10:02:53.990Z"
   },
   {
    "duration": 43,
    "start_time": "2022-11-16T10:02:54.181Z"
   },
   {
    "duration": 12,
    "start_time": "2022-11-16T10:02:54.360Z"
   },
   {
    "duration": 12,
    "start_time": "2022-11-16T10:02:54.704Z"
   },
   {
    "duration": 49,
    "start_time": "2022-11-16T10:02:54.895Z"
   },
   {
    "duration": 22,
    "start_time": "2022-11-16T10:02:55.065Z"
   },
   {
    "duration": 10,
    "start_time": "2022-11-16T10:02:55.217Z"
   },
   {
    "duration": 13,
    "start_time": "2022-11-16T10:02:55.380Z"
   },
   {
    "duration": 6,
    "start_time": "2022-11-16T10:02:55.889Z"
   },
   {
    "duration": 23,
    "start_time": "2022-11-16T10:02:56.055Z"
   },
   {
    "duration": 4,
    "start_time": "2022-11-16T10:02:56.555Z"
   },
   {
    "duration": 8,
    "start_time": "2022-11-16T10:02:56.715Z"
   },
   {
    "duration": 17,
    "start_time": "2022-11-16T10:02:56.871Z"
   },
   {
    "duration": 167,
    "start_time": "2022-11-16T10:02:57.208Z"
   },
   {
    "duration": 141,
    "start_time": "2022-11-16T10:02:57.541Z"
   },
   {
    "duration": 200,
    "start_time": "2022-11-16T10:02:57.860Z"
   },
   {
    "duration": 16,
    "start_time": "2022-11-16T10:02:58.062Z"
   },
   {
    "duration": 5,
    "start_time": "2022-11-16T10:02:58.185Z"
   },
   {
    "duration": 7,
    "start_time": "2022-11-16T10:02:58.328Z"
   },
   {
    "duration": 397,
    "start_time": "2022-11-16T10:02:59.171Z"
   },
   {
    "duration": 199,
    "start_time": "2022-11-16T10:02:59.570Z"
   },
   {
    "duration": 150,
    "start_time": "2022-11-16T10:02:59.797Z"
   },
   {
    "duration": 145,
    "start_time": "2022-11-16T10:02:59.959Z"
   },
   {
    "duration": 160,
    "start_time": "2022-11-16T10:03:00.271Z"
   },
   {
    "duration": 16,
    "start_time": "2022-11-16T10:03:00.746Z"
   },
   {
    "duration": 21,
    "start_time": "2022-11-16T10:03:01.073Z"
   },
   {
    "duration": 6,
    "start_time": "2022-11-16T10:03:01.224Z"
   },
   {
    "duration": 20,
    "start_time": "2022-11-16T10:03:01.382Z"
   },
   {
    "duration": 41,
    "start_time": "2022-11-16T10:03:01.692Z"
   },
   {
    "duration": 12,
    "start_time": "2022-11-16T10:03:01.858Z"
   },
   {
    "duration": 7,
    "start_time": "2022-11-16T10:03:02.492Z"
   },
   {
    "duration": 166,
    "start_time": "2022-11-16T10:03:03.193Z"
   },
   {
    "duration": 42,
    "start_time": "2022-11-16T10:03:03.530Z"
   },
   {
    "duration": 48,
    "start_time": "2022-11-16T10:05:07.518Z"
   },
   {
    "duration": 42,
    "start_time": "2022-11-16T10:05:18.905Z"
   },
   {
    "duration": 65,
    "start_time": "2022-11-16T10:05:44.071Z"
   },
   {
    "duration": 161,
    "start_time": "2022-11-16T10:06:29.894Z"
   },
   {
    "duration": 42,
    "start_time": "2022-11-16T10:06:31.204Z"
   },
   {
    "duration": 51,
    "start_time": "2022-11-16T10:06:45.865Z"
   },
   {
    "duration": 40,
    "start_time": "2022-11-16T10:07:15.148Z"
   },
   {
    "duration": 42,
    "start_time": "2022-11-16T10:07:29.720Z"
   },
   {
    "duration": 75973,
    "start_time": "2022-11-16T10:07:52.067Z"
   },
   {
    "duration": 74245,
    "start_time": "2022-11-16T10:10:45.306Z"
   },
   {
    "duration": 11,
    "start_time": "2022-11-16T10:13:15.094Z"
   },
   {
    "duration": 4,
    "start_time": "2022-11-16T10:13:42.431Z"
   },
   {
    "duration": 37,
    "start_time": "2022-11-16T10:13:42.611Z"
   },
   {
    "duration": 19,
    "start_time": "2022-11-16T10:13:42.784Z"
   },
   {
    "duration": 12,
    "start_time": "2022-11-16T10:13:43.091Z"
   },
   {
    "duration": 40,
    "start_time": "2022-11-16T10:13:43.249Z"
   },
   {
    "duration": 23,
    "start_time": "2022-11-16T10:13:43.411Z"
   },
   {
    "duration": 8,
    "start_time": "2022-11-16T10:13:43.565Z"
   },
   {
    "duration": 15,
    "start_time": "2022-11-16T10:13:43.721Z"
   },
   {
    "duration": 6,
    "start_time": "2022-11-16T10:13:44.533Z"
   },
   {
    "duration": 21,
    "start_time": "2022-11-16T10:13:44.568Z"
   },
   {
    "duration": 4,
    "start_time": "2022-11-16T10:13:44.671Z"
   },
   {
    "duration": 7,
    "start_time": "2022-11-16T10:13:44.693Z"
   },
   {
    "duration": 14,
    "start_time": "2022-11-16T10:13:44.716Z"
   },
   {
    "duration": 176,
    "start_time": "2022-11-16T10:13:44.785Z"
   },
   {
    "duration": 183,
    "start_time": "2022-11-16T10:13:44.963Z"
   },
   {
    "duration": 182,
    "start_time": "2022-11-16T10:13:45.148Z"
   },
   {
    "duration": 5,
    "start_time": "2022-11-16T10:13:45.332Z"
   },
   {
    "duration": 6,
    "start_time": "2022-11-16T10:13:45.339Z"
   },
   {
    "duration": 9,
    "start_time": "2022-11-16T10:13:45.347Z"
   },
   {
    "duration": 347,
    "start_time": "2022-11-16T10:13:45.379Z"
   },
   {
    "duration": 291,
    "start_time": "2022-11-16T10:13:45.728Z"
   },
   {
    "duration": 150,
    "start_time": "2022-11-16T10:13:46.021Z"
   },
   {
    "duration": 147,
    "start_time": "2022-11-16T10:13:46.173Z"
   },
   {
    "duration": 167,
    "start_time": "2022-11-16T10:13:46.322Z"
   },
   {
    "duration": 11,
    "start_time": "2022-11-16T10:13:46.491Z"
   },
   {
    "duration": 19,
    "start_time": "2022-11-16T10:13:46.504Z"
   },
   {
    "duration": 5,
    "start_time": "2022-11-16T10:13:46.525Z"
   },
   {
    "duration": 14,
    "start_time": "2022-11-16T10:13:46.532Z"
   },
   {
    "duration": 29,
    "start_time": "2022-11-16T10:13:46.579Z"
   },
   {
    "duration": 10,
    "start_time": "2022-11-16T10:13:46.610Z"
   },
   {
    "duration": 6,
    "start_time": "2022-11-16T10:13:46.700Z"
   },
   {
    "duration": 175,
    "start_time": "2022-11-16T10:13:47.942Z"
   },
   {
    "duration": 76835,
    "start_time": "2022-11-16T10:13:48.293Z"
   },
   {
    "duration": 52,
    "start_time": "2022-11-16T10:15:05.130Z"
   },
   {
    "duration": 170,
    "start_time": "2022-11-16T10:19:54.908Z"
   },
   {
    "duration": 79603,
    "start_time": "2022-11-16T10:20:00.283Z"
   },
   {
    "duration": 112,
    "start_time": "2022-11-16T10:21:19.984Z"
   },
   {
    "duration": 5,
    "start_time": "2022-11-16T10:30:28.819Z"
   },
   {
    "duration": 4,
    "start_time": "2022-11-16T10:38:55.427Z"
   },
   {
    "duration": 35,
    "start_time": "2022-11-16T10:38:55.569Z"
   },
   {
    "duration": 11,
    "start_time": "2022-11-16T10:38:55.716Z"
   },
   {
    "duration": 14,
    "start_time": "2022-11-16T10:38:56.016Z"
   },
   {
    "duration": 40,
    "start_time": "2022-11-16T10:38:56.178Z"
   },
   {
    "duration": 15,
    "start_time": "2022-11-16T10:38:56.330Z"
   },
   {
    "duration": 7,
    "start_time": "2022-11-16T10:38:56.479Z"
   },
   {
    "duration": 13,
    "start_time": "2022-11-16T10:38:56.625Z"
   },
   {
    "duration": 6,
    "start_time": "2022-11-16T10:38:57.076Z"
   },
   {
    "duration": 19,
    "start_time": "2022-11-16T10:38:57.225Z"
   },
   {
    "duration": 3,
    "start_time": "2022-11-16T10:38:57.692Z"
   },
   {
    "duration": 8,
    "start_time": "2022-11-16T10:38:57.852Z"
   },
   {
    "duration": 12,
    "start_time": "2022-11-16T10:38:58.015Z"
   },
   {
    "duration": 160,
    "start_time": "2022-11-16T10:38:58.469Z"
   },
   {
    "duration": 135,
    "start_time": "2022-11-16T10:38:58.797Z"
   },
   {
    "duration": 170,
    "start_time": "2022-11-16T10:38:59.089Z"
   },
   {
    "duration": 4,
    "start_time": "2022-11-16T10:38:59.261Z"
   },
   {
    "duration": 5,
    "start_time": "2022-11-16T10:38:59.396Z"
   },
   {
    "duration": 6,
    "start_time": "2022-11-16T10:38:59.551Z"
   },
   {
    "duration": 321,
    "start_time": "2022-11-16T10:38:59.845Z"
   },
   {
    "duration": 288,
    "start_time": "2022-11-16T10:39:00.168Z"
   },
   {
    "duration": 150,
    "start_time": "2022-11-16T10:39:00.457Z"
   },
   {
    "duration": 151,
    "start_time": "2022-11-16T10:39:00.610Z"
   },
   {
    "duration": 156,
    "start_time": "2022-11-16T10:39:00.872Z"
   },
   {
    "duration": 12,
    "start_time": "2022-11-16T10:39:01.329Z"
   },
   {
    "duration": 18,
    "start_time": "2022-11-16T10:39:01.646Z"
   },
   {
    "duration": 6,
    "start_time": "2022-11-16T10:39:01.805Z"
   },
   {
    "duration": 14,
    "start_time": "2022-11-16T10:39:01.952Z"
   },
   {
    "duration": 27,
    "start_time": "2022-11-16T10:39:02.261Z"
   },
   {
    "duration": 10,
    "start_time": "2022-11-16T10:39:02.418Z"
   },
   {
    "duration": 6,
    "start_time": "2022-11-16T10:39:03.182Z"
   },
   {
    "duration": 167,
    "start_time": "2022-11-16T10:39:03.793Z"
   },
   {
    "duration": 78612,
    "start_time": "2022-11-16T10:39:04.110Z"
   },
   {
    "duration": 64,
    "start_time": "2022-11-16T10:40:22.723Z"
   },
   {
    "duration": 89,
    "start_time": "2022-11-16T10:40:51.564Z"
   },
   {
    "duration": 67,
    "start_time": "2022-11-16T10:45:13.580Z"
   },
   {
    "duration": 154,
    "start_time": "2022-11-16T10:46:42.128Z"
   },
   {
    "duration": 79612,
    "start_time": "2022-11-16T10:46:45.642Z"
   },
   {
    "duration": 32,
    "start_time": "2022-11-16T10:48:05.256Z"
   },
   {
    "duration": 100,
    "start_time": "2022-11-16T10:48:05.379Z"
   },
   {
    "duration": 22,
    "start_time": "2022-11-16T11:13:37.568Z"
   },
   {
    "duration": 5,
    "start_time": "2022-11-16T11:16:12.104Z"
   },
   {
    "duration": 38,
    "start_time": "2022-11-16T11:16:12.966Z"
   },
   {
    "duration": 12,
    "start_time": "2022-11-16T11:16:13.101Z"
   },
   {
    "duration": 14,
    "start_time": "2022-11-16T11:16:13.390Z"
   },
   {
    "duration": 37,
    "start_time": "2022-11-16T11:16:13.533Z"
   },
   {
    "duration": 16,
    "start_time": "2022-11-16T11:16:13.664Z"
   },
   {
    "duration": 8,
    "start_time": "2022-11-16T11:16:13.789Z"
   },
   {
    "duration": 14,
    "start_time": "2022-11-16T11:16:13.922Z"
   },
   {
    "duration": 6,
    "start_time": "2022-11-16T11:16:14.407Z"
   },
   {
    "duration": 20,
    "start_time": "2022-11-16T11:16:14.541Z"
   },
   {
    "duration": 4,
    "start_time": "2022-11-16T11:16:14.942Z"
   },
   {
    "duration": 8,
    "start_time": "2022-11-16T11:16:15.074Z"
   },
   {
    "duration": 13,
    "start_time": "2022-11-16T11:16:15.207Z"
   },
   {
    "duration": 172,
    "start_time": "2022-11-16T11:16:15.450Z"
   },
   {
    "duration": 141,
    "start_time": "2022-11-16T11:16:15.705Z"
   },
   {
    "duration": 175,
    "start_time": "2022-11-16T11:16:15.940Z"
   },
   {
    "duration": 7,
    "start_time": "2022-11-16T11:16:16.117Z"
   },
   {
    "duration": 4,
    "start_time": "2022-11-16T11:16:16.220Z"
   },
   {
    "duration": 6,
    "start_time": "2022-11-16T11:16:16.431Z"
   },
   {
    "duration": 411,
    "start_time": "2022-11-16T11:16:16.692Z"
   },
   {
    "duration": 185,
    "start_time": "2022-11-16T11:16:17.299Z"
   },
   {
    "duration": 136,
    "start_time": "2022-11-16T11:16:17.602Z"
   },
   {
    "duration": 138,
    "start_time": "2022-11-16T11:16:17.742Z"
   },
   {
    "duration": 150,
    "start_time": "2022-11-16T11:16:18.006Z"
   },
   {
    "duration": 12,
    "start_time": "2022-11-16T11:16:18.537Z"
   },
   {
    "duration": 17,
    "start_time": "2022-11-16T11:16:18.811Z"
   },
   {
    "duration": 6,
    "start_time": "2022-11-16T11:16:18.962Z"
   },
   {
    "duration": 13,
    "start_time": "2022-11-16T11:16:19.339Z"
   },
   {
    "duration": 25,
    "start_time": "2022-11-16T11:16:19.599Z"
   },
   {
    "duration": 10,
    "start_time": "2022-11-16T11:16:19.791Z"
   },
   {
    "duration": 6,
    "start_time": "2022-11-16T11:16:20.501Z"
   },
   {
    "duration": 153,
    "start_time": "2022-11-16T11:16:21.134Z"
   },
   {
    "duration": 78201,
    "start_time": "2022-11-16T11:16:21.906Z"
   },
   {
    "duration": 71,
    "start_time": "2022-11-16T11:17:40.109Z"
   },
   {
    "duration": 113,
    "start_time": "2022-11-16T11:17:40.183Z"
   },
   {
    "duration": 0,
    "start_time": "2022-11-16T11:17:40.297Z"
   },
   {
    "duration": 0,
    "start_time": "2022-11-16T11:17:40.299Z"
   },
   {
    "duration": 16,
    "start_time": "2022-11-16T11:17:47.126Z"
   },
   {
    "duration": 17,
    "start_time": "2022-11-16T11:18:15.209Z"
   },
   {
    "duration": 14,
    "start_time": "2022-11-16T11:18:30.956Z"
   },
   {
    "duration": 13,
    "start_time": "2022-11-16T11:18:39.476Z"
   },
   {
    "duration": 13,
    "start_time": "2022-11-16T11:18:59.898Z"
   },
   {
    "duration": 14,
    "start_time": "2022-11-16T11:19:27.902Z"
   },
   {
    "duration": 16,
    "start_time": "2022-11-16T11:19:36.388Z"
   },
   {
    "duration": 18,
    "start_time": "2022-11-16T11:19:42.826Z"
   },
   {
    "duration": 13,
    "start_time": "2022-11-16T11:19:50.293Z"
   },
   {
    "duration": 13,
    "start_time": "2022-11-16T11:19:59.876Z"
   },
   {
    "duration": 14,
    "start_time": "2022-11-16T11:20:07.080Z"
   },
   {
    "duration": 13,
    "start_time": "2022-11-16T11:20:42.594Z"
   },
   {
    "duration": 13,
    "start_time": "2022-11-16T11:20:45.685Z"
   },
   {
    "duration": 15,
    "start_time": "2022-11-16T11:20:52.737Z"
   },
   {
    "duration": 15,
    "start_time": "2022-11-16T11:21:29.733Z"
   },
   {
    "duration": 15,
    "start_time": "2022-11-16T11:22:03.194Z"
   },
   {
    "duration": 14,
    "start_time": "2022-11-16T11:26:17.791Z"
   },
   {
    "duration": 197,
    "start_time": "2022-11-16T11:28:43.627Z"
   },
   {
    "duration": 21,
    "start_time": "2022-11-16T11:31:15.014Z"
   },
   {
    "duration": 112693,
    "start_time": "2022-11-16T11:31:54.957Z"
   },
   {
    "duration": 29,
    "start_time": "2022-11-16T11:34:40.446Z"
   },
   {
    "duration": 18,
    "start_time": "2022-11-16T11:40:06.631Z"
   },
   {
    "duration": 216,
    "start_time": "2022-11-16T11:40:11.631Z"
   },
   {
    "duration": 6,
    "start_time": "2022-11-16T11:40:22.071Z"
   },
   {
    "duration": 40,
    "start_time": "2022-11-16T11:40:22.210Z"
   },
   {
    "duration": 13,
    "start_time": "2022-11-16T11:40:22.366Z"
   },
   {
    "duration": 14,
    "start_time": "2022-11-16T11:40:22.653Z"
   },
   {
    "duration": 46,
    "start_time": "2022-11-16T11:40:22.794Z"
   },
   {
    "duration": 15,
    "start_time": "2022-11-16T11:40:22.936Z"
   },
   {
    "duration": 8,
    "start_time": "2022-11-16T11:40:23.067Z"
   },
   {
    "duration": 11,
    "start_time": "2022-11-16T11:40:23.206Z"
   },
   {
    "duration": 6,
    "start_time": "2022-11-16T11:40:23.608Z"
   },
   {
    "duration": 20,
    "start_time": "2022-11-16T11:40:23.760Z"
   },
   {
    "duration": 4,
    "start_time": "2022-11-16T11:40:24.203Z"
   },
   {
    "duration": 9,
    "start_time": "2022-11-16T11:40:24.354Z"
   },
   {
    "duration": 12,
    "start_time": "2022-11-16T11:40:24.508Z"
   },
   {
    "duration": 162,
    "start_time": "2022-11-16T11:40:24.811Z"
   },
   {
    "duration": 228,
    "start_time": "2022-11-16T11:40:25.119Z"
   },
   {
    "duration": 173,
    "start_time": "2022-11-16T11:40:25.422Z"
   },
   {
    "duration": 4,
    "start_time": "2022-11-16T11:40:25.598Z"
   },
   {
    "duration": 4,
    "start_time": "2022-11-16T11:40:25.710Z"
   },
   {
    "duration": 6,
    "start_time": "2022-11-16T11:40:25.851Z"
   },
   {
    "duration": 311,
    "start_time": "2022-11-16T11:40:26.134Z"
   },
   {
    "duration": 205,
    "start_time": "2022-11-16T11:40:26.447Z"
   },
   {
    "duration": 145,
    "start_time": "2022-11-16T11:40:26.738Z"
   },
   {
    "duration": 152,
    "start_time": "2022-11-16T11:40:26.885Z"
   },
   {
    "duration": 157,
    "start_time": "2022-11-16T11:40:27.190Z"
   },
   {
    "duration": 13,
    "start_time": "2022-11-16T11:40:27.646Z"
   },
   {
    "duration": 18,
    "start_time": "2022-11-16T11:40:27.950Z"
   },
   {
    "duration": 6,
    "start_time": "2022-11-16T11:40:28.099Z"
   },
   {
    "duration": 16,
    "start_time": "2022-11-16T11:40:28.204Z"
   },
   {
    "duration": 28,
    "start_time": "2022-11-16T11:40:28.549Z"
   },
   {
    "duration": 11,
    "start_time": "2022-11-16T11:40:28.743Z"
   },
   {
    "duration": 5,
    "start_time": "2022-11-16T11:40:29.385Z"
   },
   {
    "duration": 171,
    "start_time": "2022-11-16T11:40:29.997Z"
   },
   {
    "duration": 80599,
    "start_time": "2022-11-16T11:40:30.321Z"
   },
   {
    "duration": 64,
    "start_time": "2022-11-16T11:41:50.922Z"
   },
   {
    "duration": 102,
    "start_time": "2022-11-16T11:41:50.988Z"
   },
   {
    "duration": 211,
    "start_time": "2022-11-16T11:41:51.092Z"
   },
   {
    "duration": 113762,
    "start_time": "2022-11-16T11:41:51.304Z"
   },
   {
    "duration": 35,
    "start_time": "2022-11-16T11:43:45.068Z"
   },
   {
    "duration": 187,
    "start_time": "2022-11-16T11:43:45.105Z"
   },
   {
    "duration": 0,
    "start_time": "2022-11-16T11:43:45.294Z"
   },
   {
    "duration": 18,
    "start_time": "2022-11-16T13:12:25.179Z"
   },
   {
    "duration": 13,
    "start_time": "2022-11-16T13:14:40.306Z"
   },
   {
    "duration": 13,
    "start_time": "2022-11-16T13:16:27.193Z"
   },
   {
    "duration": 13,
    "start_time": "2022-11-16T13:16:33.863Z"
   },
   {
    "duration": 14,
    "start_time": "2022-11-16T13:16:39.078Z"
   },
   {
    "duration": 13,
    "start_time": "2022-11-16T13:16:45.535Z"
   },
   {
    "duration": 12,
    "start_time": "2022-11-16T13:16:52.644Z"
   },
   {
    "duration": 13,
    "start_time": "2022-11-16T13:18:29.718Z"
   },
   {
    "duration": 187,
    "start_time": "2022-11-16T13:21:07.238Z"
   },
   {
    "duration": 20,
    "start_time": "2022-11-16T13:21:52.632Z"
   },
   {
    "duration": 76,
    "start_time": "2022-11-16T13:23:08.754Z"
   },
   {
    "duration": 43681,
    "start_time": "2022-11-16T13:32:19.256Z"
   },
   {
    "duration": 14,
    "start_time": "2022-11-16T13:34:43.350Z"
   },
   {
    "duration": 17,
    "start_time": "2022-11-16T13:34:56.721Z"
   },
   {
    "duration": 70,
    "start_time": "2022-11-16T13:35:07.610Z"
   },
   {
    "duration": 113769,
    "start_time": "2022-11-16T13:35:13.549Z"
   },
   {
    "duration": 200,
    "start_time": "2022-11-16T13:37:07.320Z"
   },
   {
    "duration": 57,
    "start_time": "2022-11-16T13:37:07.522Z"
   },
   {
    "duration": 80444,
    "start_time": "2022-11-16T13:37:07.583Z"
   },
   {
    "duration": 172,
    "start_time": "2022-11-16T13:38:28.029Z"
   },
   {
    "duration": 16,
    "start_time": "2022-11-16T13:38:50.716Z"
   },
   {
    "duration": 16,
    "start_time": "2022-11-16T13:38:53.572Z"
   },
   {
    "duration": 15,
    "start_time": "2022-11-16T13:38:55.816Z"
   },
   {
    "duration": 42900,
    "start_time": "2022-11-16T13:39:15.701Z"
   },
   {
    "duration": 82,
    "start_time": "2022-11-16T13:39:58.602Z"
   },
   {
    "duration": 43307,
    "start_time": "2022-11-16T13:40:01.210Z"
   },
   {
    "duration": 82,
    "start_time": "2022-11-16T13:40:44.519Z"
   },
   {
    "duration": 18,
    "start_time": "2022-11-16T13:41:25.140Z"
   },
   {
    "duration": 18,
    "start_time": "2022-11-16T13:41:46.477Z"
   },
   {
    "duration": 79,
    "start_time": "2022-11-16T13:42:05.234Z"
   },
   {
    "duration": 159,
    "start_time": "2022-11-16T13:43:33.597Z"
   },
   {
    "duration": 157,
    "start_time": "2022-11-16T13:43:39.574Z"
   },
   {
    "duration": 4,
    "start_time": "2022-11-16T13:44:15.416Z"
   },
   {
    "duration": 81313,
    "start_time": "2022-11-16T13:45:08.278Z"
   },
   {
    "duration": 81002,
    "start_time": "2022-11-16T13:46:50.558Z"
   },
   {
    "duration": 26,
    "start_time": "2022-11-16T13:48:11.562Z"
   },
   {
    "duration": 4,
    "start_time": "2022-11-16T13:49:35.270Z"
   },
   {
    "duration": 38,
    "start_time": "2022-11-16T13:49:35.497Z"
   },
   {
    "duration": 13,
    "start_time": "2022-11-16T13:49:35.754Z"
   },
   {
    "duration": 13,
    "start_time": "2022-11-16T13:49:36.284Z"
   },
   {
    "duration": 38,
    "start_time": "2022-11-16T13:49:36.509Z"
   },
   {
    "duration": 16,
    "start_time": "2022-11-16T13:49:36.709Z"
   },
   {
    "duration": 7,
    "start_time": "2022-11-16T13:49:36.934Z"
   },
   {
    "duration": 11,
    "start_time": "2022-11-16T13:49:37.155Z"
   },
   {
    "duration": 6,
    "start_time": "2022-11-16T13:49:37.802Z"
   },
   {
    "duration": 22,
    "start_time": "2022-11-16T13:49:38.019Z"
   },
   {
    "duration": 4,
    "start_time": "2022-11-16T13:49:38.728Z"
   },
   {
    "duration": 7,
    "start_time": "2022-11-16T13:49:38.958Z"
   },
   {
    "duration": 12,
    "start_time": "2022-11-16T13:49:39.166Z"
   },
   {
    "duration": 153,
    "start_time": "2022-11-16T13:49:39.658Z"
   },
   {
    "duration": 138,
    "start_time": "2022-11-16T13:49:40.075Z"
   },
   {
    "duration": 174,
    "start_time": "2022-11-16T13:49:40.519Z"
   },
   {
    "duration": 5,
    "start_time": "2022-11-16T13:49:40.724Z"
   },
   {
    "duration": 5,
    "start_time": "2022-11-16T13:49:41.244Z"
   },
   {
    "duration": 7,
    "start_time": "2022-11-16T13:49:41.251Z"
   },
   {
    "duration": 312,
    "start_time": "2022-11-16T13:49:41.636Z"
   },
   {
    "duration": 183,
    "start_time": "2022-11-16T13:49:42.092Z"
   },
   {
    "duration": 134,
    "start_time": "2022-11-16T13:49:42.547Z"
   },
   {
    "duration": 162,
    "start_time": "2022-11-16T13:49:42.798Z"
   },
   {
    "duration": 254,
    "start_time": "2022-11-16T13:49:43.237Z"
   },
   {
    "duration": 12,
    "start_time": "2022-11-16T13:49:43.913Z"
   },
   {
    "duration": 17,
    "start_time": "2022-11-16T13:49:44.359Z"
   },
   {
    "duration": 6,
    "start_time": "2022-11-16T13:49:44.558Z"
   },
   {
    "duration": 13,
    "start_time": "2022-11-16T13:49:44.853Z"
   },
   {
    "duration": 26,
    "start_time": "2022-11-16T13:49:45.279Z"
   },
   {
    "duration": 9,
    "start_time": "2022-11-16T13:49:45.507Z"
   },
   {
    "duration": 6,
    "start_time": "2022-11-16T13:49:46.403Z"
   },
   {
    "duration": 158,
    "start_time": "2022-11-16T13:49:47.273Z"
   },
   {
    "duration": 80307,
    "start_time": "2022-11-16T13:49:47.730Z"
   },
   {
    "duration": 47,
    "start_time": "2022-11-16T13:51:08.039Z"
   },
   {
    "duration": 102,
    "start_time": "2022-11-16T13:51:08.089Z"
   },
   {
    "duration": 84,
    "start_time": "2022-11-16T13:51:08.194Z"
   },
   {
    "duration": 0,
    "start_time": "2022-11-16T13:51:08.280Z"
   },
   {
    "duration": 0,
    "start_time": "2022-11-16T13:51:08.282Z"
   },
   {
    "duration": 0,
    "start_time": "2022-11-16T13:51:08.282Z"
   },
   {
    "duration": 1,
    "start_time": "2022-11-16T13:51:08.283Z"
   },
   {
    "duration": 0,
    "start_time": "2022-11-16T13:51:08.285Z"
   },
   {
    "duration": 0,
    "start_time": "2022-11-16T13:51:08.286Z"
   },
   {
    "duration": 198,
    "start_time": "2022-11-16T13:53:05.301Z"
   },
   {
    "duration": 84068,
    "start_time": "2022-11-16T13:55:06.866Z"
   },
   {
    "duration": 0,
    "start_time": "2022-11-16T13:56:30.936Z"
   },
   {
    "duration": 111550,
    "start_time": "2022-11-16T13:56:42.744Z"
   },
   {
    "duration": 82,
    "start_time": "2022-11-16T13:58:34.296Z"
   },
   {
    "duration": 14,
    "start_time": "2022-11-16T13:58:46.020Z"
   },
   {
    "duration": 70,
    "start_time": "2022-11-16T13:58:47.610Z"
   },
   {
    "duration": 36,
    "start_time": "2022-11-16T13:58:49.878Z"
   },
   {
    "duration": 43257,
    "start_time": "2022-11-16T13:59:18.446Z"
   },
   {
    "duration": 17,
    "start_time": "2022-11-16T14:00:38.849Z"
   },
   {
    "duration": 9,
    "start_time": "2022-11-16T14:04:39.542Z"
   },
   {
    "duration": 3,
    "start_time": "2022-11-16T14:04:51.504Z"
   },
   {
    "duration": 4,
    "start_time": "2022-11-16T14:06:04.549Z"
   },
   {
    "duration": 5,
    "start_time": "2022-11-16T14:06:48.195Z"
   },
   {
    "duration": 5,
    "start_time": "2022-11-16T14:06:57.548Z"
   },
   {
    "duration": 5,
    "start_time": "2022-11-16T14:07:00.878Z"
   },
   {
    "duration": 6,
    "start_time": "2022-11-16T14:08:08.057Z"
   },
   {
    "duration": 4,
    "start_time": "2022-11-16T14:09:57.281Z"
   },
   {
    "duration": 80625,
    "start_time": "2022-11-16T14:11:29.011Z"
   },
   {
    "duration": 6,
    "start_time": "2022-11-16T14:13:43.987Z"
   },
   {
    "duration": 79974,
    "start_time": "2022-11-16T14:16:54.223Z"
   },
   {
    "duration": 7,
    "start_time": "2022-11-16T14:19:15.956Z"
   },
   {
    "duration": 5,
    "start_time": "2022-11-16T14:19:36.975Z"
   },
   {
    "duration": 195,
    "start_time": "2022-11-16T14:21:21.736Z"
   },
   {
    "duration": 5,
    "start_time": "2022-11-16T14:21:47.686Z"
   },
   {
    "duration": 6,
    "start_time": "2022-11-16T14:22:04.426Z"
   },
   {
    "duration": 112431,
    "start_time": "2022-11-16T14:22:40.872Z"
   },
   {
    "duration": 113029,
    "start_time": "2022-11-16T14:24:52.883Z"
   },
   {
    "duration": 114120,
    "start_time": "2022-11-16T14:27:11.982Z"
   },
   {
    "duration": 6,
    "start_time": "2022-11-16T14:31:06.335Z"
   },
   {
    "duration": 6,
    "start_time": "2022-11-16T14:31:09.944Z"
   },
   {
    "duration": 5,
    "start_time": "2022-11-16T14:31:21.905Z"
   },
   {
    "duration": 6,
    "start_time": "2022-11-16T14:31:35.079Z"
   },
   {
    "duration": 6,
    "start_time": "2022-11-16T14:31:46.494Z"
   },
   {
    "duration": 43596,
    "start_time": "2022-11-16T14:32:25.329Z"
   },
   {
    "duration": 15,
    "start_time": "2022-11-16T14:33:08.933Z"
   },
   {
    "duration": 12,
    "start_time": "2022-11-16T14:33:10.744Z"
   },
   {
    "duration": 10,
    "start_time": "2022-11-16T14:33:52.513Z"
   },
   {
    "duration": 73,
    "start_time": "2022-11-16T14:34:25.841Z"
   },
   {
    "duration": 5,
    "start_time": "2022-11-16T14:34:41.597Z"
   },
   {
    "duration": 8,
    "start_time": "2022-11-16T14:35:00.691Z"
   },
   {
    "duration": 9,
    "start_time": "2022-11-16T14:35:17.729Z"
   },
   {
    "duration": 15,
    "start_time": "2022-11-16T14:36:03.654Z"
   },
   {
    "duration": 154,
    "start_time": "2022-11-16T14:36:36.271Z"
   },
   {
    "duration": 9,
    "start_time": "2022-11-16T14:36:45.088Z"
   },
   {
    "duration": 1493,
    "start_time": "2022-11-17T06:25:09.513Z"
   },
   {
    "duration": 164,
    "start_time": "2022-11-17T06:25:11.008Z"
   },
   {
    "duration": 16,
    "start_time": "2022-11-17T06:25:11.174Z"
   },
   {
    "duration": 22,
    "start_time": "2022-11-17T06:25:11.193Z"
   },
   {
    "duration": 40,
    "start_time": "2022-11-17T06:25:11.216Z"
   },
   {
    "duration": 16,
    "start_time": "2022-11-17T06:25:11.258Z"
   },
   {
    "duration": 9,
    "start_time": "2022-11-17T06:25:11.275Z"
   },
   {
    "duration": 14,
    "start_time": "2022-11-17T06:25:11.285Z"
   },
   {
    "duration": 5,
    "start_time": "2022-11-17T06:25:11.847Z"
   },
   {
    "duration": 18,
    "start_time": "2022-11-17T06:25:12.039Z"
   },
   {
    "duration": 4,
    "start_time": "2022-11-17T06:25:12.715Z"
   },
   {
    "duration": 8,
    "start_time": "2022-11-17T06:25:12.826Z"
   },
   {
    "duration": 12,
    "start_time": "2022-11-17T06:25:13.026Z"
   },
   {
    "duration": 159,
    "start_time": "2022-11-17T06:25:13.459Z"
   },
   {
    "duration": 135,
    "start_time": "2022-11-17T06:25:13.865Z"
   },
   {
    "duration": 152,
    "start_time": "2022-11-17T06:25:14.272Z"
   },
   {
    "duration": 4,
    "start_time": "2022-11-17T06:25:14.449Z"
   },
   {
    "duration": 4,
    "start_time": "2022-11-17T06:25:14.647Z"
   },
   {
    "duration": 6,
    "start_time": "2022-11-17T06:25:14.839Z"
   },
   {
    "duration": 351,
    "start_time": "2022-11-17T06:25:15.217Z"
   },
   {
    "duration": 162,
    "start_time": "2022-11-17T06:25:15.894Z"
   },
   {
    "duration": 194,
    "start_time": "2022-11-17T06:25:16.279Z"
   },
   {
    "duration": 126,
    "start_time": "2022-11-17T06:25:16.496Z"
   },
   {
    "duration": 140,
    "start_time": "2022-11-17T06:25:16.917Z"
   },
   {
    "duration": 12,
    "start_time": "2022-11-17T06:25:17.572Z"
   },
   {
    "duration": 16,
    "start_time": "2022-11-17T06:25:17.988Z"
   },
   {
    "duration": 5,
    "start_time": "2022-11-17T06:25:18.188Z"
   },
   {
    "duration": 14,
    "start_time": "2022-11-17T06:25:18.402Z"
   },
   {
    "duration": 23,
    "start_time": "2022-11-17T06:25:18.843Z"
   },
   {
    "duration": 12,
    "start_time": "2022-11-17T06:25:19.065Z"
   },
   {
    "duration": 5,
    "start_time": "2022-11-17T06:25:20.808Z"
   },
   {
    "duration": 145,
    "start_time": "2022-11-17T06:25:33.477Z"
   },
   {
    "duration": 72030,
    "start_time": "2022-11-17T06:25:33.908Z"
   },
   {
    "duration": 22,
    "start_time": "2022-11-17T06:26:45.940Z"
   },
   {
    "duration": 99,
    "start_time": "2022-11-17T06:26:46.023Z"
   },
   {
    "duration": 192,
    "start_time": "2022-11-17T06:26:46.124Z"
   },
   {
    "duration": 101576,
    "start_time": "2022-11-17T06:26:46.321Z"
   },
   {
    "duration": 33,
    "start_time": "2022-11-17T06:28:27.898Z"
   },
   {
    "duration": 189,
    "start_time": "2022-11-17T06:28:27.933Z"
   },
   {
    "duration": 66,
    "start_time": "2022-11-17T06:28:28.124Z"
   },
   {
    "duration": 38776,
    "start_time": "2022-11-17T06:28:28.192Z"
   },
   {
    "duration": 59,
    "start_time": "2022-11-17T06:29:06.970Z"
   },
   {
    "duration": 99,
    "start_time": "2022-11-17T06:29:07.031Z"
   },
   {
    "duration": 133,
    "start_time": "2022-11-17T06:40:24.888Z"
   },
   {
    "duration": 41,
    "start_time": "2022-11-17T06:40:57.614Z"
   },
   {
    "duration": 126,
    "start_time": "2022-11-17T06:42:30.249Z"
   },
   {
    "duration": 70190,
    "start_time": "2022-11-17T06:43:02.225Z"
   },
   {
    "duration": 21,
    "start_time": "2022-11-17T06:44:46.367Z"
   },
   {
    "duration": 11,
    "start_time": "2022-11-17T06:47:00.088Z"
   },
   {
    "duration": 108,
    "start_time": "2022-11-17T07:01:17.969Z"
   },
   {
    "duration": 4,
    "start_time": "2022-11-17T07:02:49.779Z"
   },
   {
    "duration": 40,
    "start_time": "2022-11-17T07:02:49.970Z"
   },
   {
    "duration": 791,
    "start_time": "2022-11-17T07:13:07.934Z"
   },
   {
    "duration": 1053,
    "start_time": "2022-11-17T07:13:32.702Z"
   },
   {
    "duration": 943,
    "start_time": "2022-11-17T07:14:18.638Z"
   },
   {
    "duration": 949,
    "start_time": "2022-11-17T07:14:52.379Z"
   },
   {
    "duration": 926,
    "start_time": "2022-11-17T07:15:31.512Z"
   },
   {
    "duration": 943,
    "start_time": "2022-11-17T07:15:39.103Z"
   },
   {
    "duration": 900,
    "start_time": "2022-11-17T07:15:44.608Z"
   },
   {
    "duration": 815,
    "start_time": "2022-11-17T07:16:15.743Z"
   },
   {
    "duration": 832,
    "start_time": "2022-11-17T07:17:13.668Z"
   },
   {
    "duration": 978,
    "start_time": "2022-11-17T07:17:54.460Z"
   },
   {
    "duration": 4,
    "start_time": "2022-11-17T07:19:38.488Z"
   },
   {
    "duration": 833,
    "start_time": "2022-11-17T07:19:46.261Z"
   },
   {
    "duration": 831,
    "start_time": "2022-11-17T07:21:14.211Z"
   },
   {
    "duration": 835,
    "start_time": "2022-11-17T07:21:53.924Z"
   },
   {
    "duration": 892,
    "start_time": "2022-11-17T07:22:55.004Z"
   },
   {
    "duration": 894,
    "start_time": "2022-11-17T07:23:24.638Z"
   },
   {
    "duration": 843,
    "start_time": "2022-11-17T07:25:04.239Z"
   },
   {
    "duration": 858,
    "start_time": "2022-11-17T07:25:22.685Z"
   },
   {
    "duration": 897,
    "start_time": "2022-11-17T07:26:20.749Z"
   },
   {
    "duration": 841,
    "start_time": "2022-11-17T07:26:32.405Z"
   },
   {
    "duration": 834,
    "start_time": "2022-11-17T07:26:41.591Z"
   },
   {
    "duration": 844,
    "start_time": "2022-11-17T07:28:11.079Z"
   },
   {
    "duration": 1025,
    "start_time": "2022-11-17T07:28:21.021Z"
   },
   {
    "duration": 849,
    "start_time": "2022-11-17T07:29:33.721Z"
   },
   {
    "duration": 848,
    "start_time": "2022-11-17T07:30:07.650Z"
   },
   {
    "duration": 6,
    "start_time": "2022-11-17T09:07:58.533Z"
   },
   {
    "duration": 868,
    "start_time": "2022-11-17T09:13:10.935Z"
   },
   {
    "duration": 966,
    "start_time": "2022-11-17T09:15:26.418Z"
   },
   {
    "duration": 1002,
    "start_time": "2022-11-17T09:17:50.106Z"
   },
   {
    "duration": 896,
    "start_time": "2022-11-17T09:18:30.545Z"
   },
   {
    "duration": 5,
    "start_time": "2022-11-17T09:20:43.372Z"
   },
   {
    "duration": 919,
    "start_time": "2022-11-17T09:20:44.358Z"
   },
   {
    "duration": 4,
    "start_time": "2022-11-17T09:22:07.987Z"
   },
   {
    "duration": 35,
    "start_time": "2022-11-17T09:22:08.146Z"
   },
   {
    "duration": 11,
    "start_time": "2022-11-17T09:22:08.310Z"
   },
   {
    "duration": 11,
    "start_time": "2022-11-17T09:22:08.603Z"
   },
   {
    "duration": 34,
    "start_time": "2022-11-17T09:22:08.758Z"
   },
   {
    "duration": 15,
    "start_time": "2022-11-17T09:22:08.911Z"
   },
   {
    "duration": 7,
    "start_time": "2022-11-17T09:22:09.061Z"
   },
   {
    "duration": 11,
    "start_time": "2022-11-17T09:22:09.391Z"
   },
   {
    "duration": 6,
    "start_time": "2022-11-17T09:22:09.872Z"
   },
   {
    "duration": 18,
    "start_time": "2022-11-17T09:22:10.027Z"
   },
   {
    "duration": 4,
    "start_time": "2022-11-17T09:22:10.525Z"
   },
   {
    "duration": 8,
    "start_time": "2022-11-17T09:22:10.687Z"
   },
   {
    "duration": 13,
    "start_time": "2022-11-17T09:22:10.849Z"
   },
   {
    "duration": 139,
    "start_time": "2022-11-17T09:22:11.170Z"
   },
   {
    "duration": 128,
    "start_time": "2022-11-17T09:22:11.490Z"
   },
   {
    "duration": 149,
    "start_time": "2022-11-17T09:22:11.824Z"
   },
   {
    "duration": 4,
    "start_time": "2022-11-17T09:22:11.974Z"
   },
   {
    "duration": 4,
    "start_time": "2022-11-17T09:22:12.128Z"
   },
   {
    "duration": 6,
    "start_time": "2022-11-17T09:22:12.294Z"
   },
   {
    "duration": 320,
    "start_time": "2022-11-17T09:22:12.601Z"
   },
   {
    "duration": 171,
    "start_time": "2022-11-17T09:22:12.923Z"
   },
   {
    "duration": 121,
    "start_time": "2022-11-17T09:22:13.235Z"
   },
   {
    "duration": 125,
    "start_time": "2022-11-17T09:22:13.420Z"
   },
   {
    "duration": 227,
    "start_time": "2022-11-17T09:22:13.721Z"
   },
   {
    "duration": 11,
    "start_time": "2022-11-17T09:22:14.199Z"
   },
   {
    "duration": 18,
    "start_time": "2022-11-17T09:22:14.507Z"
   },
   {
    "duration": 6,
    "start_time": "2022-11-17T09:22:14.701Z"
   },
   {
    "duration": 13,
    "start_time": "2022-11-17T09:22:14.875Z"
   },
   {
    "duration": 24,
    "start_time": "2022-11-17T09:22:15.197Z"
   },
   {
    "duration": 9,
    "start_time": "2022-11-17T09:22:15.362Z"
   },
   {
    "duration": 7,
    "start_time": "2022-11-17T09:22:16.024Z"
   },
   {
    "duration": 143,
    "start_time": "2022-11-17T09:22:16.657Z"
   },
   {
    "duration": 71613,
    "start_time": "2022-11-17T09:22:16.989Z"
   },
   {
    "duration": 30,
    "start_time": "2022-11-17T09:23:28.604Z"
   },
   {
    "duration": 102,
    "start_time": "2022-11-17T09:23:28.721Z"
   },
   {
    "duration": 195,
    "start_time": "2022-11-17T09:23:28.826Z"
   },
   {
    "duration": 102175,
    "start_time": "2022-11-17T09:23:29.023Z"
   },
   {
    "duration": 32,
    "start_time": "2022-11-17T09:25:11.200Z"
   },
   {
    "duration": 187,
    "start_time": "2022-11-17T09:25:11.235Z"
   },
   {
    "duration": 81,
    "start_time": "2022-11-17T09:25:11.424Z"
   },
   {
    "duration": 40523,
    "start_time": "2022-11-17T09:25:11.507Z"
   },
   {
    "duration": 90,
    "start_time": "2022-11-17T09:25:52.032Z"
   },
   {
    "duration": 235,
    "start_time": "2022-11-17T09:25:52.124Z"
   },
   {
    "duration": 71783,
    "start_time": "2022-11-17T09:25:52.361Z"
   },
   {
    "duration": 78,
    "start_time": "2022-11-17T09:27:04.145Z"
   },
   {
    "duration": 100,
    "start_time": "2022-11-17T09:27:04.227Z"
   },
   {
    "duration": 855,
    "start_time": "2022-11-17T09:27:04.330Z"
   },
   {
    "duration": 5,
    "start_time": "2022-11-17T09:27:05.187Z"
   },
   {
    "duration": 944,
    "start_time": "2022-11-17T09:27:05.194Z"
   },
   {
    "duration": 2719,
    "start_time": "2022-11-17T09:35:03.029Z"
   },
   {
    "duration": 183,
    "start_time": "2022-11-17T09:36:20.291Z"
   },
   {
    "duration": 16,
    "start_time": "2022-11-17T09:36:25.455Z"
   },
   {
    "duration": 19,
    "start_time": "2022-11-17T09:36:32.093Z"
   },
   {
    "duration": 44,
    "start_time": "2022-11-17T09:36:32.633Z"
   },
   {
    "duration": 21,
    "start_time": "2022-11-17T09:36:33.290Z"
   },
   {
    "duration": 10,
    "start_time": "2022-11-17T09:36:34.216Z"
   },
   {
    "duration": 15,
    "start_time": "2022-11-17T09:36:35.669Z"
   },
   {
    "duration": 6,
    "start_time": "2022-11-17T09:36:37.636Z"
   },
   {
    "duration": 19,
    "start_time": "2022-11-17T09:36:37.851Z"
   },
   {
    "duration": 4,
    "start_time": "2022-11-17T09:36:40.090Z"
   },
   {
    "duration": 11,
    "start_time": "2022-11-17T09:36:40.277Z"
   },
   {
    "duration": 16,
    "start_time": "2022-11-17T09:36:40.499Z"
   },
   {
    "duration": 188,
    "start_time": "2022-11-17T09:36:41.832Z"
   },
   {
    "duration": 139,
    "start_time": "2022-11-17T09:36:42.648Z"
   },
   {
    "duration": 178,
    "start_time": "2022-11-17T09:36:43.196Z"
   },
   {
    "duration": 5,
    "start_time": "2022-11-17T09:36:43.440Z"
   },
   {
    "duration": 5,
    "start_time": "2022-11-17T09:36:43.685Z"
   },
   {
    "duration": 7,
    "start_time": "2022-11-17T09:36:43.923Z"
   },
   {
    "duration": 360,
    "start_time": "2022-11-17T09:36:44.303Z"
   },
   {
    "duration": 219,
    "start_time": "2022-11-17T09:36:44.916Z"
   },
   {
    "duration": 255,
    "start_time": "2022-11-17T09:36:45.381Z"
   },
   {
    "duration": 149,
    "start_time": "2022-11-17T09:36:45.639Z"
   },
   {
    "duration": 139,
    "start_time": "2022-11-17T09:36:46.104Z"
   },
   {
    "duration": 12,
    "start_time": "2022-11-17T09:36:47.284Z"
   },
   {
    "duration": 253,
    "start_time": "2022-11-17T09:43:06.075Z"
   },
   {
    "duration": 952,
    "start_time": "2022-11-17T09:43:25.974Z"
   },
   {
    "duration": 17,
    "start_time": "2022-11-17T09:53:23.885Z"
   },
   {
    "duration": 5,
    "start_time": "2022-11-17T09:54:06.787Z"
   },
   {
    "duration": 12,
    "start_time": "2022-11-17T09:54:07.326Z"
   },
   {
    "duration": 25,
    "start_time": "2022-11-17T09:54:37.151Z"
   },
   {
    "duration": 11,
    "start_time": "2022-11-17T09:55:17.319Z"
   },
   {
    "duration": 5,
    "start_time": "2022-11-17T09:55:21.532Z"
   },
   {
    "duration": 159,
    "start_time": "2022-11-17T09:56:06.071Z"
   },
   {
    "duration": 71689,
    "start_time": "2022-11-17T09:56:40.227Z"
   },
   {
    "duration": 26,
    "start_time": "2022-11-17T09:57:57.417Z"
   },
   {
    "duration": 14,
    "start_time": "2022-11-17T09:58:07.931Z"
   },
   {
    "duration": 199,
    "start_time": "2022-11-17T09:58:35.104Z"
   },
   {
    "duration": 102744,
    "start_time": "2022-11-17T09:58:43.941Z"
   },
   {
    "duration": 39,
    "start_time": "2022-11-17T10:00:26.687Z"
   },
   {
    "duration": 170,
    "start_time": "2022-11-17T10:00:26.728Z"
   },
   {
    "duration": 77,
    "start_time": "2022-11-17T10:00:26.900Z"
   },
   {
    "duration": 41060,
    "start_time": "2022-11-17T10:00:26.978Z"
   },
   {
    "duration": 14,
    "start_time": "2022-11-17T10:01:08.039Z"
   },
   {
    "duration": 131,
    "start_time": "2022-11-17T10:02:03.414Z"
   },
   {
    "duration": 72600,
    "start_time": "2022-11-17T10:02:04.120Z"
   },
   {
    "duration": 81,
    "start_time": "2022-11-17T10:03:16.722Z"
   },
   {
    "duration": 113,
    "start_time": "2022-11-17T10:03:16.806Z"
   },
   {
    "duration": 920,
    "start_time": "2022-11-17T10:03:16.921Z"
   },
   {
    "duration": 44,
    "start_time": "2022-11-17T11:10:37.386Z"
   },
   {
    "duration": 1433,
    "start_time": "2022-11-17T11:10:48.754Z"
   },
   {
    "duration": 72,
    "start_time": "2022-11-17T11:10:50.188Z"
   },
   {
    "duration": 15,
    "start_time": "2022-11-17T11:10:51.707Z"
   },
   {
    "duration": 13,
    "start_time": "2022-11-17T11:10:52.037Z"
   },
   {
    "duration": 35,
    "start_time": "2022-11-17T11:10:52.218Z"
   },
   {
    "duration": 14,
    "start_time": "2022-11-17T11:10:52.583Z"
   },
   {
    "duration": 1178,
    "start_time": "2022-11-17T11:10:53.414Z"
   },
   {
    "duration": 8,
    "start_time": "2022-11-17T11:10:54.593Z"
   },
   {
    "duration": 11,
    "start_time": "2022-11-17T11:10:54.602Z"
   },
   {
    "duration": 5,
    "start_time": "2022-11-17T11:10:54.615Z"
   },
   {
    "duration": 17,
    "start_time": "2022-11-17T11:10:54.707Z"
   },
   {
    "duration": 3,
    "start_time": "2022-11-17T11:10:55.446Z"
   },
   {
    "duration": 7,
    "start_time": "2022-11-17T11:10:55.632Z"
   },
   {
    "duration": 10,
    "start_time": "2022-11-17T11:10:55.820Z"
   },
   {
    "duration": 161,
    "start_time": "2022-11-17T11:10:56.199Z"
   },
   {
    "duration": 203,
    "start_time": "2022-11-17T11:10:56.579Z"
   },
   {
    "duration": 166,
    "start_time": "2022-11-17T11:10:56.957Z"
   },
   {
    "duration": 4,
    "start_time": "2022-11-17T11:10:57.578Z"
   },
   {
    "duration": 5,
    "start_time": "2022-11-17T11:10:57.780Z"
   },
   {
    "duration": 6,
    "start_time": "2022-11-17T11:10:57.973Z"
   },
   {
    "duration": 287,
    "start_time": "2022-11-17T11:10:58.393Z"
   },
   {
    "duration": 180,
    "start_time": "2022-11-17T11:10:58.792Z"
   },
   {
    "duration": 121,
    "start_time": "2022-11-17T11:10:59.171Z"
   },
   {
    "duration": 121,
    "start_time": "2022-11-17T11:10:59.394Z"
   },
   {
    "duration": 138,
    "start_time": "2022-11-17T11:10:59.761Z"
   },
   {
    "duration": 11,
    "start_time": "2022-11-17T11:11:00.532Z"
   },
   {
    "duration": 17,
    "start_time": "2022-11-17T11:11:01.138Z"
   },
   {
    "duration": 5,
    "start_time": "2022-11-17T11:11:01.767Z"
   },
   {
    "duration": 15,
    "start_time": "2022-11-17T11:11:01.982Z"
   },
   {
    "duration": 26,
    "start_time": "2022-11-17T11:11:02.601Z"
   },
   {
    "duration": 10,
    "start_time": "2022-11-17T11:11:03.002Z"
   },
   {
    "duration": 6,
    "start_time": "2022-11-17T11:11:03.790Z"
   },
   {
    "duration": 161,
    "start_time": "2022-11-17T11:11:04.710Z"
   },
   {
    "duration": 71747,
    "start_time": "2022-11-17T11:11:05.253Z"
   },
   {
    "duration": 20,
    "start_time": "2022-11-17T11:12:17.002Z"
   },
   {
    "duration": 156,
    "start_time": "2022-11-17T11:12:17.024Z"
   },
   {
    "duration": 185,
    "start_time": "2022-11-17T11:12:17.183Z"
   },
   {
    "duration": 101859,
    "start_time": "2022-11-17T11:12:17.370Z"
   },
   {
    "duration": 50,
    "start_time": "2022-11-17T11:13:59.230Z"
   },
   {
    "duration": 106,
    "start_time": "2022-11-17T11:13:59.282Z"
   },
   {
    "duration": 118,
    "start_time": "2022-11-17T11:13:59.389Z"
   },
   {
    "duration": 40672,
    "start_time": "2022-11-17T11:13:59.509Z"
   },
   {
    "duration": 14,
    "start_time": "2022-11-17T11:14:40.184Z"
   },
   {
    "duration": 312,
    "start_time": "2022-11-17T11:14:40.200Z"
   },
   {
    "duration": 73841,
    "start_time": "2022-11-17T11:14:40.513Z"
   },
   {
    "duration": 29,
    "start_time": "2022-11-17T11:15:54.355Z"
   },
   {
    "duration": 100,
    "start_time": "2022-11-17T11:15:54.386Z"
   },
   {
    "duration": 934,
    "start_time": "2022-11-17T11:15:54.488Z"
   },
   {
    "duration": 5,
    "start_time": "2022-11-17T11:15:55.424Z"
   },
   {
    "duration": 923,
    "start_time": "2022-11-17T11:15:55.430Z"
   },
   {
    "duration": 995,
    "start_time": "2022-11-17T11:17:23.928Z"
   },
   {
    "duration": 5,
    "start_time": "2022-11-17T12:35:13.373Z"
   },
   {
    "duration": 39,
    "start_time": "2022-11-17T12:35:13.914Z"
   },
   {
    "duration": 14,
    "start_time": "2022-11-17T12:35:14.802Z"
   },
   {
    "duration": 12,
    "start_time": "2022-11-17T12:35:15.834Z"
   },
   {
    "duration": 36,
    "start_time": "2022-11-17T12:35:16.173Z"
   },
   {
    "duration": 14,
    "start_time": "2022-11-17T12:35:16.841Z"
   },
   {
    "duration": 1023,
    "start_time": "2022-11-17T12:35:18.074Z"
   },
   {
    "duration": 8,
    "start_time": "2022-11-17T12:35:19.099Z"
   },
   {
    "duration": 16,
    "start_time": "2022-11-17T12:35:19.109Z"
   },
   {
    "duration": 6,
    "start_time": "2022-11-17T12:35:20.047Z"
   },
   {
    "duration": 20,
    "start_time": "2022-11-17T12:35:20.373Z"
   },
   {
    "duration": 4,
    "start_time": "2022-11-17T12:35:21.611Z"
   },
   {
    "duration": 7,
    "start_time": "2022-11-17T12:35:21.942Z"
   },
   {
    "duration": 12,
    "start_time": "2022-11-17T12:35:22.297Z"
   },
   {
    "duration": 156,
    "start_time": "2022-11-17T12:35:22.950Z"
   },
   {
    "duration": 198,
    "start_time": "2022-11-17T12:35:23.560Z"
   },
   {
    "duration": 165,
    "start_time": "2022-11-17T12:35:24.174Z"
   },
   {
    "duration": 4,
    "start_time": "2022-11-17T12:35:25.075Z"
   },
   {
    "duration": 4,
    "start_time": "2022-11-17T12:35:25.430Z"
   },
   {
    "duration": 7,
    "start_time": "2022-11-17T12:35:25.743Z"
   },
   {
    "duration": 306,
    "start_time": "2022-11-17T12:35:26.374Z"
   },
   {
    "duration": 169,
    "start_time": "2022-11-17T12:35:27.023Z"
   },
   {
    "duration": 131,
    "start_time": "2022-11-17T12:35:27.664Z"
   },
   {
    "duration": 142,
    "start_time": "2022-11-17T12:35:30.005Z"
   },
   {
    "duration": 160,
    "start_time": "2022-11-17T12:35:30.526Z"
   },
   {
    "duration": 13,
    "start_time": "2022-11-17T12:36:06.307Z"
   },
   {
    "duration": 17,
    "start_time": "2022-11-17T12:36:07.625Z"
   },
   {
    "duration": 6,
    "start_time": "2022-11-17T12:36:08.524Z"
   },
   {
    "duration": 13,
    "start_time": "2022-11-17T12:36:08.907Z"
   },
   {
    "duration": 27,
    "start_time": "2022-11-17T12:36:09.921Z"
   },
   {
    "duration": 10,
    "start_time": "2022-11-17T12:36:18.292Z"
   },
   {
    "duration": 5,
    "start_time": "2022-11-17T12:36:19.356Z"
   },
   {
    "duration": 145,
    "start_time": "2022-11-17T12:36:21.294Z"
   },
   {
    "duration": 73610,
    "start_time": "2022-11-17T12:36:24.250Z"
   },
   {
    "duration": 24,
    "start_time": "2022-11-17T12:37:37.862Z"
   },
   {
    "duration": 99,
    "start_time": "2022-11-17T12:37:37.888Z"
   },
   {
    "duration": 189,
    "start_time": "2022-11-17T12:37:38.077Z"
   },
   {
    "duration": 106020,
    "start_time": "2022-11-17T12:37:38.268Z"
   },
   {
    "duration": 28,
    "start_time": "2022-11-17T12:39:24.289Z"
   },
   {
    "duration": 104,
    "start_time": "2022-11-17T12:39:24.380Z"
   },
   {
    "duration": 94,
    "start_time": "2022-11-17T12:39:24.486Z"
   },
   {
    "duration": 41652,
    "start_time": "2022-11-17T12:39:24.582Z"
   },
   {
    "duration": 50,
    "start_time": "2022-11-17T12:40:06.236Z"
   },
   {
    "duration": 245,
    "start_time": "2022-11-17T12:40:06.287Z"
   },
   {
    "duration": 74236,
    "start_time": "2022-11-17T12:40:06.534Z"
   },
   {
    "duration": 22,
    "start_time": "2022-11-17T12:41:20.772Z"
   },
   {
    "duration": 91,
    "start_time": "2022-11-17T12:41:20.796Z"
   },
   {
    "duration": 966,
    "start_time": "2022-11-17T12:41:20.888Z"
   },
   {
    "duration": 6,
    "start_time": "2022-11-17T12:41:21.856Z"
   },
   {
    "duration": 931,
    "start_time": "2022-11-17T12:41:21.863Z"
   },
   {
    "duration": 101,
    "start_time": "2022-11-17T12:43:29.233Z"
   }
  ],
  "kernelspec": {
   "display_name": "Python 3",
   "language": "python",
   "name": "python3"
  },
  "language_info": {
   "codemirror_mode": {
    "name": "ipython",
    "version": 3
   },
   "file_extension": ".py",
   "mimetype": "text/x-python",
   "name": "python",
   "nbconvert_exporter": "python",
   "pygments_lexer": "ipython3",
   "version": "3.10.6"
  },
  "toc": {
   "base_numbering": 1,
   "nav_menu": {},
   "number_sections": true,
   "sideBar": true,
   "skip_h1_title": true,
   "title_cell": "Содержание",
   "title_sidebar": "Contents",
   "toc_cell": true,
   "toc_position": {},
   "toc_section_display": true,
   "toc_window_display": true
  },
  "vscode": {
   "interpreter": {
    "hash": "afb734500600fd355917ca529030176ea0ca205570884b88f2f6f7d791fd3fbe"
   }
  }
 },
 "nbformat": 4,
 "nbformat_minor": 2
}
